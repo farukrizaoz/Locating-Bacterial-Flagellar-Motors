{
 "cells": [
  {
   "cell_type": "code",
   "execution_count": 1,
   "id": "ad7670c1",
   "metadata": {
    "execution": {
     "iopub.execute_input": "2025-05-16T09:32:54.010452Z",
     "iopub.status.busy": "2025-05-16T09:32:54.010225Z",
     "iopub.status.idle": "2025-05-16T09:34:07.795630Z",
     "shell.execute_reply": "2025-05-16T09:34:07.794809Z"
    },
    "papermill": {
     "duration": 73.789425,
     "end_time": "2025-05-16T09:34:07.797195",
     "exception": false,
     "start_time": "2025-05-16T09:32:54.007770",
     "status": "completed"
    },
    "tags": []
   },
   "outputs": [
    {
     "name": "stdout",
     "output_type": "stream",
     "text": [
      "Collecting ultralytics\r\n",
      "  Downloading ultralytics-8.3.135-py3-none-any.whl.metadata (37 kB)\r\n",
      "Requirement already satisfied: numpy>=1.23.0 in /usr/local/lib/python3.11/dist-packages (from ultralytics) (1.26.4)\r\n",
      "Requirement already satisfied: matplotlib>=3.3.0 in /usr/local/lib/python3.11/dist-packages (from ultralytics) (3.7.2)\r\n",
      "Requirement already satisfied: opencv-python>=4.6.0 in /usr/local/lib/python3.11/dist-packages (from ultralytics) (4.11.0.86)\r\n",
      "Requirement already satisfied: pillow>=7.1.2 in /usr/local/lib/python3.11/dist-packages (from ultralytics) (11.1.0)\r\n",
      "Requirement already satisfied: pyyaml>=5.3.1 in /usr/local/lib/python3.11/dist-packages (from ultralytics) (6.0.2)\r\n",
      "Requirement already satisfied: requests>=2.23.0 in /usr/local/lib/python3.11/dist-packages (from ultralytics) (2.32.3)\r\n",
      "Requirement already satisfied: scipy>=1.4.1 in /usr/local/lib/python3.11/dist-packages (from ultralytics) (1.15.2)\r\n",
      "Requirement already satisfied: torch>=1.8.0 in /usr/local/lib/python3.11/dist-packages (from ultralytics) (2.6.0+cu124)\r\n",
      "Requirement already satisfied: torchvision>=0.9.0 in /usr/local/lib/python3.11/dist-packages (from ultralytics) (0.21.0+cu124)\r\n",
      "Requirement already satisfied: tqdm>=4.64.0 in /usr/local/lib/python3.11/dist-packages (from ultralytics) (4.67.1)\r\n",
      "Requirement already satisfied: psutil in /usr/local/lib/python3.11/dist-packages (from ultralytics) (7.0.0)\r\n",
      "Requirement already satisfied: py-cpuinfo in /usr/local/lib/python3.11/dist-packages (from ultralytics) (9.0.0)\r\n",
      "Requirement already satisfied: pandas>=1.1.4 in /usr/local/lib/python3.11/dist-packages (from ultralytics) (2.2.3)\r\n",
      "Requirement already satisfied: seaborn>=0.11.0 in /usr/local/lib/python3.11/dist-packages (from ultralytics) (0.12.2)\r\n",
      "Collecting ultralytics-thop>=2.0.0 (from ultralytics)\r\n",
      "  Downloading ultralytics_thop-2.0.14-py3-none-any.whl.metadata (9.4 kB)\r\n",
      "Requirement already satisfied: contourpy>=1.0.1 in /usr/local/lib/python3.11/dist-packages (from matplotlib>=3.3.0->ultralytics) (1.3.1)\r\n",
      "Requirement already satisfied: cycler>=0.10 in /usr/local/lib/python3.11/dist-packages (from matplotlib>=3.3.0->ultralytics) (0.12.1)\r\n",
      "Requirement already satisfied: fonttools>=4.22.0 in /usr/local/lib/python3.11/dist-packages (from matplotlib>=3.3.0->ultralytics) (4.57.0)\r\n",
      "Requirement already satisfied: kiwisolver>=1.0.1 in /usr/local/lib/python3.11/dist-packages (from matplotlib>=3.3.0->ultralytics) (1.4.8)\r\n",
      "Requirement already satisfied: packaging>=20.0 in /usr/local/lib/python3.11/dist-packages (from matplotlib>=3.3.0->ultralytics) (25.0)\r\n",
      "Requirement already satisfied: pyparsing<3.1,>=2.3.1 in /usr/local/lib/python3.11/dist-packages (from matplotlib>=3.3.0->ultralytics) (3.0.9)\r\n",
      "Requirement already satisfied: python-dateutil>=2.7 in /usr/local/lib/python3.11/dist-packages (from matplotlib>=3.3.0->ultralytics) (2.9.0.post0)\r\n",
      "Requirement already satisfied: mkl_fft in /usr/local/lib/python3.11/dist-packages (from numpy>=1.23.0->ultralytics) (1.3.8)\r\n",
      "Requirement already satisfied: mkl_random in /usr/local/lib/python3.11/dist-packages (from numpy>=1.23.0->ultralytics) (1.2.4)\r\n",
      "Requirement already satisfied: mkl_umath in /usr/local/lib/python3.11/dist-packages (from numpy>=1.23.0->ultralytics) (0.1.1)\r\n",
      "Requirement already satisfied: mkl in /usr/local/lib/python3.11/dist-packages (from numpy>=1.23.0->ultralytics) (2025.1.0)\r\n",
      "Requirement already satisfied: tbb4py in /usr/local/lib/python3.11/dist-packages (from numpy>=1.23.0->ultralytics) (2022.1.0)\r\n",
      "Requirement already satisfied: mkl-service in /usr/local/lib/python3.11/dist-packages (from numpy>=1.23.0->ultralytics) (2.4.1)\r\n",
      "Requirement already satisfied: pytz>=2020.1 in /usr/local/lib/python3.11/dist-packages (from pandas>=1.1.4->ultralytics) (2025.2)\r\n",
      "Requirement already satisfied: tzdata>=2022.7 in /usr/local/lib/python3.11/dist-packages (from pandas>=1.1.4->ultralytics) (2025.2)\r\n",
      "Requirement already satisfied: charset-normalizer<4,>=2 in /usr/local/lib/python3.11/dist-packages (from requests>=2.23.0->ultralytics) (3.4.2)\r\n",
      "Requirement already satisfied: idna<4,>=2.5 in /usr/local/lib/python3.11/dist-packages (from requests>=2.23.0->ultralytics) (3.10)\r\n",
      "Requirement already satisfied: urllib3<3,>=1.21.1 in /usr/local/lib/python3.11/dist-packages (from requests>=2.23.0->ultralytics) (2.4.0)\r\n",
      "Requirement already satisfied: certifi>=2017.4.17 in /usr/local/lib/python3.11/dist-packages (from requests>=2.23.0->ultralytics) (2025.4.26)\r\n",
      "Requirement already satisfied: filelock in /usr/local/lib/python3.11/dist-packages (from torch>=1.8.0->ultralytics) (3.18.0)\r\n",
      "Requirement already satisfied: typing-extensions>=4.10.0 in /usr/local/lib/python3.11/dist-packages (from torch>=1.8.0->ultralytics) (4.13.2)\r\n",
      "Requirement already satisfied: networkx in /usr/local/lib/python3.11/dist-packages (from torch>=1.8.0->ultralytics) (3.4.2)\r\n",
      "Requirement already satisfied: jinja2 in /usr/local/lib/python3.11/dist-packages (from torch>=1.8.0->ultralytics) (3.1.6)\r\n",
      "Requirement already satisfied: fsspec in /usr/local/lib/python3.11/dist-packages (from torch>=1.8.0->ultralytics) (2025.3.2)\r\n",
      "Requirement already satisfied: nvidia-cuda-nvrtc-cu12==12.4.127 in /usr/local/lib/python3.11/dist-packages (from torch>=1.8.0->ultralytics) (12.4.127)\r\n",
      "Requirement already satisfied: nvidia-cuda-runtime-cu12==12.4.127 in /usr/local/lib/python3.11/dist-packages (from torch>=1.8.0->ultralytics) (12.4.127)\r\n",
      "Requirement already satisfied: nvidia-cuda-cupti-cu12==12.4.127 in /usr/local/lib/python3.11/dist-packages (from torch>=1.8.0->ultralytics) (12.4.127)\r\n",
      "Collecting nvidia-cudnn-cu12==9.1.0.70 (from torch>=1.8.0->ultralytics)\r\n",
      "  Downloading nvidia_cudnn_cu12-9.1.0.70-py3-none-manylinux2014_x86_64.whl.metadata (1.6 kB)\r\n",
      "Collecting nvidia-cublas-cu12==12.4.5.8 (from torch>=1.8.0->ultralytics)\r\n",
      "  Downloading nvidia_cublas_cu12-12.4.5.8-py3-none-manylinux2014_x86_64.whl.metadata (1.5 kB)\r\n",
      "Collecting nvidia-cufft-cu12==11.2.1.3 (from torch>=1.8.0->ultralytics)\r\n",
      "  Downloading nvidia_cufft_cu12-11.2.1.3-py3-none-manylinux2014_x86_64.whl.metadata (1.5 kB)\r\n",
      "Collecting nvidia-curand-cu12==10.3.5.147 (from torch>=1.8.0->ultralytics)\r\n",
      "  Downloading nvidia_curand_cu12-10.3.5.147-py3-none-manylinux2014_x86_64.whl.metadata (1.5 kB)\r\n",
      "Collecting nvidia-cusolver-cu12==11.6.1.9 (from torch>=1.8.0->ultralytics)\r\n",
      "  Downloading nvidia_cusolver_cu12-11.6.1.9-py3-none-manylinux2014_x86_64.whl.metadata (1.6 kB)\r\n",
      "Collecting nvidia-cusparse-cu12==12.3.1.170 (from torch>=1.8.0->ultralytics)\r\n",
      "  Downloading nvidia_cusparse_cu12-12.3.1.170-py3-none-manylinux2014_x86_64.whl.metadata (1.6 kB)\r\n",
      "Requirement already satisfied: nvidia-cusparselt-cu12==0.6.2 in /usr/local/lib/python3.11/dist-packages (from torch>=1.8.0->ultralytics) (0.6.2)\r\n",
      "Requirement already satisfied: nvidia-nccl-cu12==2.21.5 in /usr/local/lib/python3.11/dist-packages (from torch>=1.8.0->ultralytics) (2.21.5)\r\n",
      "Requirement already satisfied: nvidia-nvtx-cu12==12.4.127 in /usr/local/lib/python3.11/dist-packages (from torch>=1.8.0->ultralytics) (12.4.127)\r\n",
      "Collecting nvidia-nvjitlink-cu12==12.4.127 (from torch>=1.8.0->ultralytics)\r\n",
      "  Downloading nvidia_nvjitlink_cu12-12.4.127-py3-none-manylinux2014_x86_64.whl.metadata (1.5 kB)\r\n",
      "Requirement already satisfied: triton==3.2.0 in /usr/local/lib/python3.11/dist-packages (from torch>=1.8.0->ultralytics) (3.2.0)\r\n",
      "Requirement already satisfied: sympy==1.13.1 in /usr/local/lib/python3.11/dist-packages (from torch>=1.8.0->ultralytics) (1.13.1)\r\n",
      "Requirement already satisfied: mpmath<1.4,>=1.1.0 in /usr/local/lib/python3.11/dist-packages (from sympy==1.13.1->torch>=1.8.0->ultralytics) (1.3.0)\r\n",
      "Requirement already satisfied: six>=1.5 in /usr/local/lib/python3.11/dist-packages (from python-dateutil>=2.7->matplotlib>=3.3.0->ultralytics) (1.17.0)\r\n",
      "Requirement already satisfied: MarkupSafe>=2.0 in /usr/local/lib/python3.11/dist-packages (from jinja2->torch>=1.8.0->ultralytics) (3.0.2)\r\n",
      "Requirement already satisfied: intel-openmp<2026,>=2024 in /usr/local/lib/python3.11/dist-packages (from mkl->numpy>=1.23.0->ultralytics) (2024.2.0)\r\n",
      "Requirement already satisfied: tbb==2022.* in /usr/local/lib/python3.11/dist-packages (from mkl->numpy>=1.23.0->ultralytics) (2022.1.0)\r\n",
      "Requirement already satisfied: tcmlib==1.* in /usr/local/lib/python3.11/dist-packages (from tbb==2022.*->mkl->numpy>=1.23.0->ultralytics) (1.3.0)\r\n",
      "Requirement already satisfied: intel-cmplr-lib-rt in /usr/local/lib/python3.11/dist-packages (from mkl_umath->numpy>=1.23.0->ultralytics) (2024.2.0)\r\n",
      "Requirement already satisfied: intel-cmplr-lib-ur==2024.2.0 in /usr/local/lib/python3.11/dist-packages (from intel-openmp<2026,>=2024->mkl->numpy>=1.23.0->ultralytics) (2024.2.0)\r\n",
      "Downloading ultralytics-8.3.135-py3-none-any.whl (1.0 MB)\r\n",
      "\u001b[2K   \u001b[90m━━━━━━━━━━━━━━━━━━━━━━━━━━━━━━━━━━━━━━━━\u001b[0m \u001b[32m1.0/1.0 MB\u001b[0m \u001b[31m17.9 MB/s\u001b[0m eta \u001b[36m0:00:00\u001b[0m\r\n",
      "\u001b[?25hDownloading nvidia_cublas_cu12-12.4.5.8-py3-none-manylinux2014_x86_64.whl (363.4 MB)\r\n",
      "\u001b[2K   \u001b[90m━━━━━━━━━━━━━━━━━━━━━━━━━━━━━━━━━━━━━━━━\u001b[0m \u001b[32m363.4/363.4 MB\u001b[0m \u001b[31m4.8 MB/s\u001b[0m eta \u001b[36m0:00:00\u001b[0m\r\n",
      "\u001b[?25hDownloading nvidia_cudnn_cu12-9.1.0.70-py3-none-manylinux2014_x86_64.whl (664.8 MB)\r\n",
      "\u001b[2K   \u001b[90m━━━━━━━━━━━━━━━━━━━━━━━━━━━━━━━━━━━━━━━━\u001b[0m \u001b[32m664.8/664.8 MB\u001b[0m \u001b[31m2.3 MB/s\u001b[0m eta \u001b[36m0:00:00\u001b[0m\r\n",
      "\u001b[?25hDownloading nvidia_cufft_cu12-11.2.1.3-py3-none-manylinux2014_x86_64.whl (211.5 MB)\r\n",
      "\u001b[2K   \u001b[90m━━━━━━━━━━━━━━━━━━━━━━━━━━━━━━━━━━━━━━━━\u001b[0m \u001b[32m211.5/211.5 MB\u001b[0m \u001b[31m6.6 MB/s\u001b[0m eta \u001b[36m0:00:00\u001b[0m\r\n",
      "\u001b[?25hDownloading nvidia_curand_cu12-10.3.5.147-py3-none-manylinux2014_x86_64.whl (56.3 MB)\r\n",
      "\u001b[2K   \u001b[90m━━━━━━━━━━━━━━━━━━━━━━━━━━━━━━━━━━━━━━━━\u001b[0m \u001b[32m56.3/56.3 MB\u001b[0m \u001b[31m3.3 MB/s\u001b[0m eta \u001b[36m0:00:00\u001b[0m\r\n",
      "\u001b[?25hDownloading nvidia_cusolver_cu12-11.6.1.9-py3-none-manylinux2014_x86_64.whl (127.9 MB)\r\n",
      "\u001b[2K   \u001b[90m━━━━━━━━━━━━━━━━━━━━━━━━━━━━━━━━━━━━━━━━\u001b[0m \u001b[32m127.9/127.9 MB\u001b[0m \u001b[31m7.2 MB/s\u001b[0m eta \u001b[36m0:00:00\u001b[0m\r\n",
      "\u001b[?25hDownloading nvidia_cusparse_cu12-12.3.1.170-py3-none-manylinux2014_x86_64.whl (207.5 MB)\r\n",
      "\u001b[2K   \u001b[90m━━━━━━━━━━━━━━━━━━━━━━━━━━━━━━━━━━━━━━━━\u001b[0m \u001b[32m207.5/207.5 MB\u001b[0m \u001b[31m8.1 MB/s\u001b[0m eta \u001b[36m0:00:00\u001b[0m\r\n",
      "\u001b[?25hDownloading nvidia_nvjitlink_cu12-12.4.127-py3-none-manylinux2014_x86_64.whl (21.1 MB)\r\n",
      "\u001b[2K   \u001b[90m━━━━━━━━━━━━━━━━━━━━━━━━━━━━━━━━━━━━━━━━\u001b[0m \u001b[32m21.1/21.1 MB\u001b[0m \u001b[31m86.4 MB/s\u001b[0m eta \u001b[36m0:00:00\u001b[0m\r\n",
      "\u001b[?25hDownloading ultralytics_thop-2.0.14-py3-none-any.whl (26 kB)\r\n",
      "Installing collected packages: nvidia-nvjitlink-cu12, nvidia-curand-cu12, nvidia-cufft-cu12, nvidia-cublas-cu12, nvidia-cusparse-cu12, nvidia-cudnn-cu12, nvidia-cusolver-cu12, ultralytics-thop, ultralytics\r\n",
      "  Attempting uninstall: nvidia-nvjitlink-cu12\r\n",
      "    Found existing installation: nvidia-nvjitlink-cu12 12.9.41\r\n",
      "    Uninstalling nvidia-nvjitlink-cu12-12.9.41:\r\n",
      "      Successfully uninstalled nvidia-nvjitlink-cu12-12.9.41\r\n",
      "  Attempting uninstall: nvidia-curand-cu12\r\n",
      "    Found existing installation: nvidia-curand-cu12 10.3.10.19\r\n",
      "    Uninstalling nvidia-curand-cu12-10.3.10.19:\r\n",
      "      Successfully uninstalled nvidia-curand-cu12-10.3.10.19\r\n",
      "  Attempting uninstall: nvidia-cufft-cu12\r\n",
      "    Found existing installation: nvidia-cufft-cu12 11.4.0.6\r\n",
      "    Uninstalling nvidia-cufft-cu12-11.4.0.6:\r\n",
      "      Successfully uninstalled nvidia-cufft-cu12-11.4.0.6\r\n",
      "  Attempting uninstall: nvidia-cublas-cu12\r\n",
      "    Found existing installation: nvidia-cublas-cu12 12.9.0.13\r\n",
      "    Uninstalling nvidia-cublas-cu12-12.9.0.13:\r\n",
      "      Successfully uninstalled nvidia-cublas-cu12-12.9.0.13\r\n",
      "  Attempting uninstall: nvidia-cusparse-cu12\r\n",
      "    Found existing installation: nvidia-cusparse-cu12 12.5.9.5\r\n",
      "    Uninstalling nvidia-cusparse-cu12-12.5.9.5:\r\n",
      "      Successfully uninstalled nvidia-cusparse-cu12-12.5.9.5\r\n",
      "  Attempting uninstall: nvidia-cudnn-cu12\r\n",
      "    Found existing installation: nvidia-cudnn-cu12 9.3.0.75\r\n",
      "    Uninstalling nvidia-cudnn-cu12-9.3.0.75:\r\n",
      "      Successfully uninstalled nvidia-cudnn-cu12-9.3.0.75\r\n",
      "  Attempting uninstall: nvidia-cusolver-cu12\r\n",
      "    Found existing installation: nvidia-cusolver-cu12 11.7.4.40\r\n",
      "    Uninstalling nvidia-cusolver-cu12-11.7.4.40:\r\n",
      "      Successfully uninstalled nvidia-cusolver-cu12-11.7.4.40\r\n",
      "Successfully installed nvidia-cublas-cu12-12.4.5.8 nvidia-cudnn-cu12-9.1.0.70 nvidia-cufft-cu12-11.2.1.3 nvidia-curand-cu12-10.3.5.147 nvidia-cusolver-cu12-11.6.1.9 nvidia-cusparse-cu12-12.3.1.170 nvidia-nvjitlink-cu12-12.4.127 ultralytics-8.3.135 ultralytics-thop-2.0.14\r\n"
     ]
    }
   ],
   "source": [
    "!pip install ultralytics"
   ]
  },
  {
   "cell_type": "code",
   "execution_count": 2,
   "id": "3d84c3b0",
   "metadata": {
    "_cell_guid": "b1076dfc-b9ad-4769-8c92-a6c4dae69d19",
    "_uuid": "8f2839f25d086af736a60e9eeb907d3b93b6e0e5",
    "execution": {
     "iopub.execute_input": "2025-05-16T09:34:07.839130Z",
     "iopub.status.busy": "2025-05-16T09:34:07.838832Z",
     "iopub.status.idle": "2025-05-16T09:34:21.553373Z",
     "shell.execute_reply": "2025-05-16T09:34:21.552559Z"
    },
    "papermill": {
     "duration": 13.736118,
     "end_time": "2025-05-16T09:34:21.554506",
     "exception": false,
     "start_time": "2025-05-16T09:34:07.818388",
     "status": "completed"
    },
    "tags": []
   },
   "outputs": [
    {
     "name": "stdout",
     "output_type": "stream",
     "text": [
      "Creating new Ultralytics Settings v0.0.6 file ✅ \n",
      "View Ultralytics Settings with 'yolo settings' or at '/root/.config/Ultralytics/settings.json'\n",
      "Update Settings with 'yolo settings key=value', i.e. 'yolo settings runs_dir=path/to/dir'. For help see https://docs.ultralytics.com/quickstart/#ultralytics-settings.\n"
     ]
    },
    {
     "name": "stderr",
     "output_type": "stream",
     "text": [
      "[I 2025-05-16 09:34:13,423] A new study created in memory with name: flagellar_motor_detection\n"
     ]
    },
    {
     "name": "stdout",
     "output_type": "stream",
     "text": [
      "Created data yaml: /kaggle/working/yolo_flagella/flagella.yaml\n",
      "\n",
      "=== Trial 0 ===\n",
      "lr0: 0.00029540897720910675\n",
      "lrf: 0.007947800117728282\n",
      "mosaic: 0.7987560065606213\n",
      "mixup: 0.17216840207742765\n",
      "copy_paste: 0.022768861093074577\n",
      "hsv_h: 0.007012038053615444\n",
      "hsv_s: 0.1783301827420825\n",
      "hsv_v: 0.2091159807174562\n",
      "degrees: 124\n",
      "fliplr: 0.26370724070217955\n",
      "flipud: 0.4420908058986989\n",
      "box: 0.12262251967986024\n",
      "cls: 0.5003127233391899\n",
      "batch: 16\n",
      "weight_decay: 3.061447323282775e-05\n",
      "Downloading https://github.com/ultralytics/assets/releases/download/v8.3.0/yolov8s.pt to 'yolov8s.pt'...\n"
     ]
    },
    {
     "name": "stderr",
     "output_type": "stream",
     "text": [
      "100%|██████████| 21.5M/21.5M [00:00<00:00, 136MB/s]\n"
     ]
    },
    {
     "name": "stdout",
     "output_type": "stream",
     "text": [
      "Ultralytics 8.3.135 🚀 Python-3.11.11 torch-2.6.0+cu124 CUDA:0 (Tesla P100-PCIE-16GB, 16269MiB)\n",
      "\u001b[34m\u001b[1mengine/trainer: \u001b[0magnostic_nms=False, amp=True, augment=False, auto_augment=randaugment, batch=16, bgr=0.0, box=0.12262251967986024, cache=False, cfg=None, classes=None, close_mosaic=10, cls=0.5003127233391899, conf=None, copy_paste=0.022768861093074577, copy_paste_mode=flip, cos_lr=False, cutmix=0.0, data=/kaggle/working/yolo_flagella/flagella.yaml, degrees=124, deterministic=True, device=None, dfl=1.5, dnn=False, dropout=0.0, dynamic=False, embed=None, epochs=50, erasing=0.4, exist_ok=True, fliplr=0.26370724070217955, flipud=0.4420908058986989, format=torchscript, fraction=1.0, freeze=None, half=False, hsv_h=0.007012038053615444, hsv_s=0.1783301827420825, hsv_v=0.2091159807174562, imgsz=640, int8=False, iou=0.7, keras=False, kobj=1.0, line_width=None, lr0=0.00029540897720910675, lrf=0.007947800117728282, mask_ratio=4, max_det=300, mixup=0.17216840207742765, mode=train, model=yolov8s.pt, momentum=0.937, mosaic=0.7987560065606213, multi_scale=False, name=trial_0_20250516_093413, nbs=64, nms=False, opset=None, optimize=False, optimizer=auto, overlap_mask=True, patience=15, perspective=0.0, plots=True, pose=12.0, pretrained=True, profile=False, project=/kaggle/working/yolo_flagella, rect=False, resume=False, retina_masks=False, save=True, save_conf=False, save_crop=False, save_dir=/kaggle/working/yolo_flagella/trial_0_20250516_093413, save_frames=False, save_json=False, save_period=-1, save_txt=False, scale=0.5, seed=42, shear=0.0, show=False, show_boxes=True, show_conf=True, show_labels=True, simplify=True, single_cls=True, source=None, split=val, stream_buffer=False, task=detect, time=None, tracker=botsort.yaml, translate=0.1, val=True, verbose=True, vid_stride=1, visualize=False, warmup_bias_lr=0.1, warmup_epochs=3.0, warmup_momentum=0.8, weight_decay=3.061447323282775e-05, workers=8, workspace=None\n",
      "\n"
     ]
    },
    {
     "name": "stderr",
     "output_type": "stream",
     "text": [
      "[I 2025-05-16 09:34:14,481] Trial 0 finished with value: 0.0 and parameters: {'lr0': 0.00029540897720910675, 'lrf': 0.007947800117728282, 'mosaic': 0.7987560065606213, 'mixup': 0.17216840207742765, 'copy_paste': 0.022768861093074577, 'hsv_h': 0.007012038053615444, 'hsv_s': 0.1783301827420825, 'hsv_v': 0.2091159807174562, 'degrees': 124, 'fliplr': 0.26370724070217955, 'flipud': 0.4420908058986989, 'box': 0.12262251967986024, 'cls': 0.5003127233391899, 'batch': 16, 'weight_decay': 3.061447323282775e-05}. Best is trial 0 with value: 0.0.\n"
     ]
    },
    {
     "name": "stdout",
     "output_type": "stream",
     "text": [
      "Error in trial 0: Dataset '/kaggle/working/yolo_flagella/flagella.yaml' error ❌ Dataset '/kaggle/working/yolo_flagella/flagella.yaml' images not found, missing path '/kaggle/input/yolo-data/yolo_dataset/images/train'\n",
      "Note dataset download directory is '/kaggle/working/datasets'. You can update this in '/root/.config/Ultralytics/settings.json'\n",
      "\n",
      "=== Trial 1 ===\n",
      "lr0: 0.00025604868663896946\n",
      "lrf: 0.007474727336841102\n",
      "mosaic: 0.7176133217141074\n",
      "mixup: 0.14835780428479306\n",
      "copy_paste: 0.08413937436257762\n",
      "hsv_h: 0.0060254242667783404\n",
      "hsv_s: 0.21599782764172012\n",
      "hsv_v: 0.17858190124984083\n",
      "degrees: 147\n",
      "fliplr: 0.48510727397467485\n",
      "flipud: 0.3683934867275778\n",
      "box: 0.17156689567519592\n",
      "cls: 0.7067347072841488\n",
      "batch: 16\n",
      "weight_decay: 0.00042803062790512577\n",
      "Ultralytics 8.3.135 🚀 Python-3.11.11 torch-2.6.0+cu124 CUDA:0 (Tesla P100-PCIE-16GB, 16269MiB)\n",
      "\u001b[34m\u001b[1mengine/trainer: \u001b[0magnostic_nms=False, amp=True, augment=False, auto_augment=randaugment, batch=16, bgr=0.0, box=0.17156689567519592, cache=False, cfg=None, classes=None, close_mosaic=10, cls=0.7067347072841488, conf=None, copy_paste=0.08413937436257762, copy_paste_mode=flip, cos_lr=False, cutmix=0.0, data=/kaggle/working/yolo_flagella/flagella.yaml, degrees=147, deterministic=True, device=None, dfl=1.5, dnn=False, dropout=0.0, dynamic=False, embed=None, epochs=50, erasing=0.4, exist_ok=True, fliplr=0.48510727397467485, flipud=0.3683934867275778, format=torchscript, fraction=1.0, freeze=None, half=False, hsv_h=0.0060254242667783404, hsv_s=0.21599782764172012, hsv_v=0.17858190124984083, imgsz=640, int8=False, iou=0.7, keras=False, kobj=1.0, line_width=None, lr0=0.00025604868663896946, lrf=0.007474727336841102, mask_ratio=4, max_det=300, mixup=0.14835780428479306, mode=train, model=yolov8s.pt, momentum=0.937, mosaic=0.7176133217141074, multi_scale=False, name=trial_1_20250516_093414, nbs=64, nms=False, opset=None, optimize=False, optimizer=auto, overlap_mask=True, patience=15, perspective=0.0, plots=True, pose=12.0, pretrained=True, profile=False, project=/kaggle/working/yolo_flagella, rect=False, resume=False, retina_masks=False, save=True, save_conf=False, save_crop=False, save_dir=/kaggle/working/yolo_flagella/trial_1_20250516_093414, save_frames=False, save_json=False, save_period=-1, save_txt=False, scale=0.5, seed=42, shear=0.0, show=False, show_boxes=True, show_conf=True, show_labels=True, simplify=True, single_cls=True, source=None, split=val, stream_buffer=False, task=detect, time=None, tracker=botsort.yaml, translate=0.1, val=True, verbose=True, vid_stride=1, visualize=False, warmup_bias_lr=0.1, warmup_epochs=3.0, warmup_momentum=0.8, weight_decay=0.00042803062790512577, workers=8, workspace=None\n",
      "\n"
     ]
    },
    {
     "name": "stderr",
     "output_type": "stream",
     "text": [
      "[I 2025-05-16 09:34:14,623] Trial 1 finished with value: 0.0 and parameters: {'lr0': 0.00025604868663896946, 'lrf': 0.007474727336841102, 'mosaic': 0.7176133217141074, 'mixup': 0.14835780428479306, 'copy_paste': 0.08413937436257762, 'hsv_h': 0.0060254242667783404, 'hsv_s': 0.21599782764172012, 'hsv_v': 0.17858190124984083, 'degrees': 147, 'fliplr': 0.48510727397467485, 'flipud': 0.3683934867275778, 'box': 0.17156689567519592, 'cls': 0.7067347072841488, 'batch': 16, 'weight_decay': 0.00042803062790512577}. Best is trial 0 with value: 0.0.\n"
     ]
    },
    {
     "name": "stdout",
     "output_type": "stream",
     "text": [
      "Error in trial 1: Dataset '/kaggle/working/yolo_flagella/flagella.yaml' error ❌ Dataset '/kaggle/working/yolo_flagella/flagella.yaml' images not found, missing path '/kaggle/input/yolo-data/yolo_dataset/images/train'\n",
      "Note dataset download directory is '/kaggle/working/datasets'. You can update this in '/root/.config/Ultralytics/settings.json'\n",
      "\n",
      "=== Trial 2 ===\n",
      "lr0: 2.1670186629134467e-05\n",
      "lrf: 0.0037298880900752786\n",
      "mosaic: 0.7733360542915142\n",
      "mixup: 0.029135721368519142\n",
      "copy_paste: 0.08719072024089766\n",
      "hsv_h: 0.011484167266516077\n",
      "hsv_s: 0.04903441895848376\n",
      "hsv_v: 0.0324308241972156\n",
      "degrees: 65\n",
      "fliplr: 0.20548062820253843\n",
      "flipud: 0.376506528268871\n",
      "box: 0.19109697631818878\n",
      "cls: 0.28799914566164964\n",
      "batch: 32\n",
      "weight_decay: 7.11625941854604e-05\n",
      "Ultralytics 8.3.135 🚀 Python-3.11.11 torch-2.6.0+cu124 CUDA:0 (Tesla P100-PCIE-16GB, 16269MiB)\n",
      "\u001b[34m\u001b[1mengine/trainer: \u001b[0magnostic_nms=False, amp=True, augment=False, auto_augment=randaugment, batch=32, bgr=0.0, box=0.19109697631818878, cache=False, cfg=None, classes=None, close_mosaic=10, cls=0.28799914566164964, conf=None, copy_paste=0.08719072024089766, copy_paste_mode=flip, cos_lr=False, cutmix=0.0, data=/kaggle/working/yolo_flagella/flagella.yaml, degrees=65, deterministic=True, device=None, dfl=1.5, dnn=False, dropout=0.0, dynamic=False, embed=None, epochs=50, erasing=0.4, exist_ok=True, fliplr=0.20548062820253843, flipud=0.376506528268871, format=torchscript, fraction=1.0, freeze=None, half=False, hsv_h=0.011484167266516077, hsv_s=0.04903441895848376, hsv_v=0.0324308241972156, imgsz=640, int8=False, iou=0.7, keras=False, kobj=1.0, line_width=None, lr0=2.1670186629134467e-05, lrf=0.0037298880900752786, mask_ratio=4, max_det=300, mixup=0.029135721368519142, mode=train, model=yolov8s.pt, momentum=0.937, mosaic=0.7733360542915142, multi_scale=False, name=trial_2_20250516_093414, nbs=64, nms=False, opset=None, optimize=False, optimizer=auto, overlap_mask=True, patience=15, perspective=0.0, plots=True, pose=12.0, pretrained=True, profile=False, project=/kaggle/working/yolo_flagella, rect=False, resume=False, retina_masks=False, save=True, save_conf=False, save_crop=False, save_dir=/kaggle/working/yolo_flagella/trial_2_20250516_093414, save_frames=False, save_json=False, save_period=-1, save_txt=False, scale=0.5, seed=42, shear=0.0, show=False, show_boxes=True, show_conf=True, show_labels=True, simplify=True, single_cls=True, source=None, split=val, stream_buffer=False, task=detect, time=None, tracker=botsort.yaml, translate=0.1, val=True, verbose=True, vid_stride=1, visualize=False, warmup_bias_lr=0.1, warmup_epochs=3.0, warmup_momentum=0.8, weight_decay=7.11625941854604e-05, workers=8, workspace=None\n",
      "\n"
     ]
    },
    {
     "name": "stderr",
     "output_type": "stream",
     "text": [
      "[I 2025-05-16 09:34:14,759] Trial 2 finished with value: 0.0 and parameters: {'lr0': 2.1670186629134467e-05, 'lrf': 0.0037298880900752786, 'mosaic': 0.7733360542915142, 'mixup': 0.029135721368519142, 'copy_paste': 0.08719072024089766, 'hsv_h': 0.011484167266516077, 'hsv_s': 0.04903441895848376, 'hsv_v': 0.0324308241972156, 'degrees': 65, 'fliplr': 0.20548062820253843, 'flipud': 0.376506528268871, 'box': 0.19109697631818878, 'cls': 0.28799914566164964, 'batch': 32, 'weight_decay': 7.11625941854604e-05}. Best is trial 0 with value: 0.0.\n"
     ]
    },
    {
     "name": "stdout",
     "output_type": "stream",
     "text": [
      "Error in trial 2: Dataset '/kaggle/working/yolo_flagella/flagella.yaml' error ❌ Dataset '/kaggle/working/yolo_flagella/flagella.yaml' images not found, missing path '/kaggle/input/yolo-data/yolo_dataset/images/train'\n",
      "Note dataset download directory is '/kaggle/working/datasets'. You can update this in '/root/.config/Ultralytics/settings.json'\n",
      "\n",
      "=== Trial 3 ===\n",
      "lr0: 0.00022670295876104637\n",
      "lrf: 0.005844534533891247\n",
      "mosaic: 0.6133128236965828\n",
      "mixup: 0.0597116292100651\n",
      "copy_paste: 0.0910065118968727\n",
      "hsv_h: 0.03663123239377672\n",
      "hsv_s: 0.051004673158678904\n",
      "hsv_v: 0.20000282712354459\n",
      "degrees: 42\n",
      "fliplr: 0.25750859664034265\n",
      "flipud: 0.09884175997588424\n",
      "box: 0.056775738782277\n",
      "cls: 0.7787455711503193\n",
      "batch: 8\n",
      "weight_decay: 3.484839728564383e-05\n",
      "Ultralytics 8.3.135 🚀 Python-3.11.11 torch-2.6.0+cu124 CUDA:0 (Tesla P100-PCIE-16GB, 16269MiB)\n",
      "\u001b[34m\u001b[1mengine/trainer: \u001b[0magnostic_nms=False, amp=True, augment=False, auto_augment=randaugment, batch=8, bgr=0.0, box=0.056775738782277, cache=False, cfg=None, classes=None, close_mosaic=10, cls=0.7787455711503193, conf=None, copy_paste=0.0910065118968727, copy_paste_mode=flip, cos_lr=False, cutmix=0.0, data=/kaggle/working/yolo_flagella/flagella.yaml, degrees=42, deterministic=True, device=None, dfl=1.5, dnn=False, dropout=0.0, dynamic=False, embed=None, epochs=50, erasing=0.4, exist_ok=True, fliplr=0.25750859664034265, flipud=0.09884175997588424, format=torchscript, fraction=1.0, freeze=None, half=False, hsv_h=0.03663123239377672, hsv_s=0.051004673158678904, hsv_v=0.20000282712354459, imgsz=640, int8=False, iou=0.7, keras=False, kobj=1.0, line_width=None, lr0=0.00022670295876104637, lrf=0.005844534533891247, mask_ratio=4, max_det=300, mixup=0.0597116292100651, mode=train, model=yolov8s.pt, momentum=0.937, mosaic=0.6133128236965828, multi_scale=False, name=trial_3_20250516_093414, nbs=64, nms=False, opset=None, optimize=False, optimizer=auto, overlap_mask=True, patience=15, perspective=0.0, plots=True, pose=12.0, pretrained=True, profile=False, project=/kaggle/working/yolo_flagella, rect=False, resume=False, retina_masks=False, save=True, save_conf=False, save_crop=False, save_dir=/kaggle/working/yolo_flagella/trial_3_20250516_093414, save_frames=False, save_json=False, save_period=-1, save_txt=False, scale=0.5, seed=42, shear=0.0, show=False, show_boxes=True, show_conf=True, show_labels=True, simplify=True, single_cls=True, source=None, split=val, stream_buffer=False, task=detect, time=None, tracker=botsort.yaml, translate=0.1, val=True, verbose=True, vid_stride=1, visualize=False, warmup_bias_lr=0.1, warmup_epochs=3.0, warmup_momentum=0.8, weight_decay=3.484839728564383e-05, workers=8, workspace=None\n",
      "\n"
     ]
    },
    {
     "name": "stderr",
     "output_type": "stream",
     "text": [
      "[I 2025-05-16 09:34:14,897] Trial 3 finished with value: 0.0 and parameters: {'lr0': 0.00022670295876104637, 'lrf': 0.005844534533891247, 'mosaic': 0.6133128236965828, 'mixup': 0.0597116292100651, 'copy_paste': 0.0910065118968727, 'hsv_h': 0.03663123239377672, 'hsv_s': 0.051004673158678904, 'hsv_v': 0.20000282712354459, 'degrees': 42, 'fliplr': 0.25750859664034265, 'flipud': 0.09884175997588424, 'box': 0.056775738782277, 'cls': 0.7787455711503193, 'batch': 8, 'weight_decay': 3.484839728564383e-05}. Best is trial 0 with value: 0.0.\n"
     ]
    },
    {
     "name": "stdout",
     "output_type": "stream",
     "text": [
      "Error in trial 3: Dataset '/kaggle/working/yolo_flagella/flagella.yaml' error ❌ Dataset '/kaggle/working/yolo_flagella/flagella.yaml' images not found, missing path '/kaggle/input/yolo-data/yolo_dataset/images/train'\n",
      "Note dataset download directory is '/kaggle/working/datasets'. You can update this in '/root/.config/Ultralytics/settings.json'\n",
      "\n",
      "=== Trial 4 ===\n",
      "lr0: 0.0006781745865465744\n",
      "lrf: 0.0028947380811772546\n",
      "mosaic: 0.7777514520513374\n",
      "mixup: 0.00010826566630841584\n",
      "copy_paste: 0.048961031696603464\n",
      "hsv_h: 0.01783818214098881\n",
      "hsv_s: 0.0672874883744486\n",
      "hsv_v: 0.13707362283759295\n",
      "degrees: 118\n",
      "fliplr: 0.06420602250362784\n",
      "flipud: 0.05284941159331391\n",
      "box: 0.0989003238148966\n",
      "cls: 0.5772962488207565\n",
      "batch: 32\n",
      "weight_decay: 0.0008046777563838365\n",
      "Ultralytics 8.3.135 🚀 Python-3.11.11 torch-2.6.0+cu124 CUDA:0 (Tesla P100-PCIE-16GB, 16269MiB)\n",
      "\u001b[34m\u001b[1mengine/trainer: \u001b[0magnostic_nms=False, amp=True, augment=False, auto_augment=randaugment, batch=32, bgr=0.0, box=0.0989003238148966, cache=False, cfg=None, classes=None, close_mosaic=10, cls=0.5772962488207565, conf=None, copy_paste=0.048961031696603464, copy_paste_mode=flip, cos_lr=False, cutmix=0.0, data=/kaggle/working/yolo_flagella/flagella.yaml, degrees=118, deterministic=True, device=None, dfl=1.5, dnn=False, dropout=0.0, dynamic=False, embed=None, epochs=50, erasing=0.4, exist_ok=True, fliplr=0.06420602250362784, flipud=0.05284941159331391, format=torchscript, fraction=1.0, freeze=None, half=False, hsv_h=0.01783818214098881, hsv_s=0.0672874883744486, hsv_v=0.13707362283759295, imgsz=640, int8=False, iou=0.7, keras=False, kobj=1.0, line_width=None, lr0=0.0006781745865465744, lrf=0.0028947380811772546, mask_ratio=4, max_det=300, mixup=0.00010826566630841584, mode=train, model=yolov8s.pt, momentum=0.937, mosaic=0.7777514520513374, multi_scale=False, name=trial_4_20250516_093414, nbs=64, nms=False, opset=None, optimize=False, optimizer=auto, overlap_mask=True, patience=15, perspective=0.0, plots=True, pose=12.0, pretrained=True, profile=False, project=/kaggle/working/yolo_flagella, rect=False, resume=False, retina_masks=False, save=True, save_conf=False, save_crop=False, save_dir=/kaggle/working/yolo_flagella/trial_4_20250516_093414, save_frames=False, save_json=False, save_period=-1, save_txt=False, scale=0.5, seed=42, shear=0.0, show=False, show_boxes=True, show_conf=True, show_labels=True, simplify=True, single_cls=True, source=None, split=val, stream_buffer=False, task=detect, time=None, tracker=botsort.yaml, translate=0.1, val=True, verbose=True, vid_stride=1, visualize=False, warmup_bias_lr=0.1, warmup_epochs=3.0, warmup_momentum=0.8, weight_decay=0.0008046777563838365, workers=8, workspace=None\n",
      "\n"
     ]
    },
    {
     "name": "stderr",
     "output_type": "stream",
     "text": [
      "[I 2025-05-16 09:34:15,028] Trial 4 finished with value: 0.0 and parameters: {'lr0': 0.0006781745865465744, 'lrf': 0.0028947380811772546, 'mosaic': 0.7777514520513374, 'mixup': 0.00010826566630841584, 'copy_paste': 0.048961031696603464, 'hsv_h': 0.01783818214098881, 'hsv_s': 0.0672874883744486, 'hsv_v': 0.13707362283759295, 'degrees': 118, 'fliplr': 0.06420602250362784, 'flipud': 0.05284941159331391, 'box': 0.0989003238148966, 'cls': 0.5772962488207565, 'batch': 32, 'weight_decay': 0.0008046777563838365}. Best is trial 0 with value: 0.0.\n"
     ]
    },
    {
     "name": "stdout",
     "output_type": "stream",
     "text": [
      "Error in trial 4: Dataset '/kaggle/working/yolo_flagella/flagella.yaml' error ❌ Dataset '/kaggle/working/yolo_flagella/flagella.yaml' images not found, missing path '/kaggle/input/yolo-data/yolo_dataset/images/train'\n",
      "Note dataset download directory is '/kaggle/working/datasets'. You can update this in '/root/.config/Ultralytics/settings.json'\n",
      "\n",
      "=== Trial 5 ===\n",
      "lr0: 0.00031313257197811183\n",
      "lrf: 0.003269001812180058\n",
      "mosaic: 0.7826710139148902\n",
      "mixup: 0.1958052584324721\n",
      "copy_paste: 0.08368705630860418\n",
      "hsv_h: 0.04929822897125549\n",
      "hsv_s: 0.1320775581561078\n",
      "hsv_v: 0.023869692224083517\n",
      "degrees: 21\n",
      "fliplr: 0.15564464797257105\n",
      "flipud: 0.26115142526777757\n",
      "box: 0.1252779042838238\n",
      "cls: 0.42800761135252896\n",
      "batch: 8\n",
      "weight_decay: 1.5413472372203977e-05\n",
      "Ultralytics 8.3.135 🚀 Python-3.11.11 torch-2.6.0+cu124 CUDA:0 (Tesla P100-PCIE-16GB, 16269MiB)\n",
      "\u001b[34m\u001b[1mengine/trainer: \u001b[0magnostic_nms=False, amp=True, augment=False, auto_augment=randaugment, batch=8, bgr=0.0, box=0.1252779042838238, cache=False, cfg=None, classes=None, close_mosaic=10, cls=0.42800761135252896, conf=None, copy_paste=0.08368705630860418, copy_paste_mode=flip, cos_lr=False, cutmix=0.0, data=/kaggle/working/yolo_flagella/flagella.yaml, degrees=21, deterministic=True, device=None, dfl=1.5, dnn=False, dropout=0.0, dynamic=False, embed=None, epochs=50, erasing=0.4, exist_ok=True, fliplr=0.15564464797257105, flipud=0.26115142526777757, format=torchscript, fraction=1.0, freeze=None, half=False, hsv_h=0.04929822897125549, hsv_s=0.1320775581561078, hsv_v=0.023869692224083517, imgsz=640, int8=False, iou=0.7, keras=False, kobj=1.0, line_width=None, lr0=0.00031313257197811183, lrf=0.003269001812180058, mask_ratio=4, max_det=300, mixup=0.1958052584324721, mode=train, model=yolov8s.pt, momentum=0.937, mosaic=0.7826710139148902, multi_scale=False, name=trial_5_20250516_093415, nbs=64, nms=False, opset=None, optimize=False, optimizer=auto, overlap_mask=True, patience=15, perspective=0.0, plots=True, pose=12.0, pretrained=True, profile=False, project=/kaggle/working/yolo_flagella, rect=False, resume=False, retina_masks=False, save=True, save_conf=False, save_crop=False, save_dir=/kaggle/working/yolo_flagella/trial_5_20250516_093415, save_frames=False, save_json=False, save_period=-1, save_txt=False, scale=0.5, seed=42, shear=0.0, show=False, show_boxes=True, show_conf=True, show_labels=True, simplify=True, single_cls=True, source=None, split=val, stream_buffer=False, task=detect, time=None, tracker=botsort.yaml, translate=0.1, val=True, verbose=True, vid_stride=1, visualize=False, warmup_bias_lr=0.1, warmup_epochs=3.0, warmup_momentum=0.8, weight_decay=1.5413472372203977e-05, workers=8, workspace=None\n",
      "\n"
     ]
    },
    {
     "name": "stderr",
     "output_type": "stream",
     "text": [
      "[I 2025-05-16 09:34:15,159] Trial 5 finished with value: 0.0 and parameters: {'lr0': 0.00031313257197811183, 'lrf': 0.003269001812180058, 'mosaic': 0.7826710139148902, 'mixup': 0.1958052584324721, 'copy_paste': 0.08368705630860418, 'hsv_h': 0.04929822897125549, 'hsv_s': 0.1320775581561078, 'hsv_v': 0.023869692224083517, 'degrees': 21, 'fliplr': 0.15564464797257105, 'flipud': 0.26115142526777757, 'box': 0.1252779042838238, 'cls': 0.42800761135252896, 'batch': 8, 'weight_decay': 1.5413472372203977e-05}. Best is trial 0 with value: 0.0.\n"
     ]
    },
    {
     "name": "stdout",
     "output_type": "stream",
     "text": [
      "Error in trial 5: Dataset '/kaggle/working/yolo_flagella/flagella.yaml' error ❌ Dataset '/kaggle/working/yolo_flagella/flagella.yaml' images not found, missing path '/kaggle/input/yolo-data/yolo_dataset/images/train'\n",
      "Note dataset download directory is '/kaggle/working/datasets'. You can update this in '/root/.config/Ultralytics/settings.json'\n",
      "\n",
      "=== Trial 6 ===\n",
      "lr0: 2.6032215480737055e-05\n",
      "lrf: 0.004366767236815511\n",
      "mosaic: 0.6996924403940359\n",
      "mixup: 0.1638060435550212\n",
      "copy_paste: 0.08385377626198467\n",
      "hsv_h: 0.016328714365076224\n",
      "hsv_s: 0.12291128675713582\n",
      "hsv_v: 0.28101550345683085\n",
      "degrees: 74\n",
      "fliplr: 0.46501352412791985\n",
      "flipud: 0.3799166613503036\n",
      "box: 0.08886284669143589\n",
      "cls: 0.6664224203591482\n",
      "batch: 16\n",
      "weight_decay: 1.6651374153712004e-05\n",
      "Ultralytics 8.3.135 🚀 Python-3.11.11 torch-2.6.0+cu124 CUDA:0 (Tesla P100-PCIE-16GB, 16269MiB)\n",
      "\u001b[34m\u001b[1mengine/trainer: \u001b[0magnostic_nms=False, amp=True, augment=False, auto_augment=randaugment, batch=16, bgr=0.0, box=0.08886284669143589, cache=False, cfg=None, classes=None, close_mosaic=10, cls=0.6664224203591482, conf=None, copy_paste=0.08385377626198467, copy_paste_mode=flip, cos_lr=False, cutmix=0.0, data=/kaggle/working/yolo_flagella/flagella.yaml, degrees=74, deterministic=True, device=None, dfl=1.5, dnn=False, dropout=0.0, dynamic=False, embed=None, epochs=50, erasing=0.4, exist_ok=True, fliplr=0.46501352412791985, flipud=0.3799166613503036, format=torchscript, fraction=1.0, freeze=None, half=False, hsv_h=0.016328714365076224, hsv_s=0.12291128675713582, hsv_v=0.28101550345683085, imgsz=640, int8=False, iou=0.7, keras=False, kobj=1.0, line_width=None, lr0=2.6032215480737055e-05, lrf=0.004366767236815511, mask_ratio=4, max_det=300, mixup=0.1638060435550212, mode=train, model=yolov8s.pt, momentum=0.937, mosaic=0.6996924403940359, multi_scale=False, name=trial_6_20250516_093415, nbs=64, nms=False, opset=None, optimize=False, optimizer=auto, overlap_mask=True, patience=15, perspective=0.0, plots=True, pose=12.0, pretrained=True, profile=False, project=/kaggle/working/yolo_flagella, rect=False, resume=False, retina_masks=False, save=True, save_conf=False, save_crop=False, save_dir=/kaggle/working/yolo_flagella/trial_6_20250516_093415, save_frames=False, save_json=False, save_period=-1, save_txt=False, scale=0.5, seed=42, shear=0.0, show=False, show_boxes=True, show_conf=True, show_labels=True, simplify=True, single_cls=True, source=None, split=val, stream_buffer=False, task=detect, time=None, tracker=botsort.yaml, translate=0.1, val=True, verbose=True, vid_stride=1, visualize=False, warmup_bias_lr=0.1, warmup_epochs=3.0, warmup_momentum=0.8, weight_decay=1.6651374153712004e-05, workers=8, workspace=None\n",
      "\n"
     ]
    },
    {
     "name": "stderr",
     "output_type": "stream",
     "text": [
      "[I 2025-05-16 09:34:15,286] Trial 6 finished with value: 0.0 and parameters: {'lr0': 2.6032215480737055e-05, 'lrf': 0.004366767236815511, 'mosaic': 0.6996924403940359, 'mixup': 0.1638060435550212, 'copy_paste': 0.08385377626198467, 'hsv_h': 0.016328714365076224, 'hsv_s': 0.12291128675713582, 'hsv_v': 0.28101550345683085, 'degrees': 74, 'fliplr': 0.46501352412791985, 'flipud': 0.3799166613503036, 'box': 0.08886284669143589, 'cls': 0.6664224203591482, 'batch': 16, 'weight_decay': 1.6651374153712004e-05}. Best is trial 0 with value: 0.0.\n"
     ]
    },
    {
     "name": "stdout",
     "output_type": "stream",
     "text": [
      "Error in trial 6: Dataset '/kaggle/working/yolo_flagella/flagella.yaml' error ❌ Dataset '/kaggle/working/yolo_flagella/flagella.yaml' images not found, missing path '/kaggle/input/yolo-data/yolo_dataset/images/train'\n",
      "Note dataset download directory is '/kaggle/working/datasets'. You can update this in '/root/.config/Ultralytics/settings.json'\n",
      "\n",
      "=== Trial 7 ===\n",
      "lr0: 0.0002562403487516238\n",
      "lrf: 0.002462375828315062\n",
      "mosaic: 0.6924410587885823\n",
      "mixup: 0.1093434163035133\n",
      "copy_paste: 0.0834870234507431\n",
      "hsv_h: 0.004306732495754845\n",
      "hsv_s: 0.14832371257956842\n",
      "hsv_v: 0.04425092604973928\n",
      "degrees: 84\n",
      "fliplr: 0.22703241036465477\n",
      "flipud: 0.033835011628770006\n",
      "box: 0.11811180763106961\n",
      "cls: 0.4195567933708946\n",
      "batch: 32\n",
      "weight_decay: 6.552988907627617e-05\n",
      "Ultralytics 8.3.135 🚀 Python-3.11.11 torch-2.6.0+cu124 CUDA:0 (Tesla P100-PCIE-16GB, 16269MiB)\n",
      "\u001b[34m\u001b[1mengine/trainer: \u001b[0magnostic_nms=False, amp=True, augment=False, auto_augment=randaugment, batch=32, bgr=0.0, box=0.11811180763106961, cache=False, cfg=None, classes=None, close_mosaic=10, cls=0.4195567933708946, conf=None, copy_paste=0.0834870234507431, copy_paste_mode=flip, cos_lr=False, cutmix=0.0, data=/kaggle/working/yolo_flagella/flagella.yaml, degrees=84, deterministic=True, device=None, dfl=1.5, dnn=False, dropout=0.0, dynamic=False, embed=None, epochs=50, erasing=0.4, exist_ok=True, fliplr=0.22703241036465477, flipud=0.033835011628770006, format=torchscript, fraction=1.0, freeze=None, half=False, hsv_h=0.004306732495754845, hsv_s=0.14832371257956842, hsv_v=0.04425092604973928, imgsz=640, int8=False, iou=0.7, keras=False, kobj=1.0, line_width=None, lr0=0.0002562403487516238, lrf=0.002462375828315062, mask_ratio=4, max_det=300, mixup=0.1093434163035133, mode=train, model=yolov8s.pt, momentum=0.937, mosaic=0.6924410587885823, multi_scale=False, name=trial_7_20250516_093415, nbs=64, nms=False, opset=None, optimize=False, optimizer=auto, overlap_mask=True, patience=15, perspective=0.0, plots=True, pose=12.0, pretrained=True, profile=False, project=/kaggle/working/yolo_flagella, rect=False, resume=False, retina_masks=False, save=True, save_conf=False, save_crop=False, save_dir=/kaggle/working/yolo_flagella/trial_7_20250516_093415, save_frames=False, save_json=False, save_period=-1, save_txt=False, scale=0.5, seed=42, shear=0.0, show=False, show_boxes=True, show_conf=True, show_labels=True, simplify=True, single_cls=True, source=None, split=val, stream_buffer=False, task=detect, time=None, tracker=botsort.yaml, translate=0.1, val=True, verbose=True, vid_stride=1, visualize=False, warmup_bias_lr=0.1, warmup_epochs=3.0, warmup_momentum=0.8, weight_decay=6.552988907627617e-05, workers=8, workspace=None\n",
      "\n"
     ]
    },
    {
     "name": "stderr",
     "output_type": "stream",
     "text": [
      "[I 2025-05-16 09:34:15,415] Trial 7 finished with value: 0.0 and parameters: {'lr0': 0.0002562403487516238, 'lrf': 0.002462375828315062, 'mosaic': 0.6924410587885823, 'mixup': 0.1093434163035133, 'copy_paste': 0.0834870234507431, 'hsv_h': 0.004306732495754845, 'hsv_s': 0.14832371257956842, 'hsv_v': 0.04425092604973928, 'degrees': 84, 'fliplr': 0.22703241036465477, 'flipud': 0.033835011628770006, 'box': 0.11811180763106961, 'cls': 0.4195567933708946, 'batch': 32, 'weight_decay': 6.552988907627617e-05}. Best is trial 0 with value: 0.0.\n"
     ]
    },
    {
     "name": "stdout",
     "output_type": "stream",
     "text": [
      "Error in trial 7: Dataset '/kaggle/working/yolo_flagella/flagella.yaml' error ❌ Dataset '/kaggle/working/yolo_flagella/flagella.yaml' images not found, missing path '/kaggle/input/yolo-data/yolo_dataset/images/train'\n",
      "Note dataset download directory is '/kaggle/working/datasets'. You can update this in '/root/.config/Ultralytics/settings.json'\n",
      "\n",
      "=== Trial 8 ===\n",
      "lr0: 0.0009284690023069423\n",
      "lrf: 0.008844856209190467\n",
      "mosaic: 0.5556829530562539\n",
      "mixup: 0.13784906992316076\n",
      "copy_paste: 0.013457200072250831\n",
      "hsv_h: 0.040547465359303675\n",
      "hsv_s: 0.10861698002730454\n",
      "hsv_v: 0.17858878914116455\n",
      "degrees: 153\n",
      "fliplr: 0.44763727558302757\n",
      "flipud: 0.41732265985502187\n",
      "box: 0.1544403990647483\n",
      "cls: 0.7725198929103552\n",
      "batch: 8\n",
      "weight_decay: 0.00039494678651400363\n",
      "Ultralytics 8.3.135 🚀 Python-3.11.11 torch-2.6.0+cu124 CUDA:0 (Tesla P100-PCIE-16GB, 16269MiB)\n",
      "\u001b[34m\u001b[1mengine/trainer: \u001b[0magnostic_nms=False, amp=True, augment=False, auto_augment=randaugment, batch=8, bgr=0.0, box=0.1544403990647483, cache=False, cfg=None, classes=None, close_mosaic=10, cls=0.7725198929103552, conf=None, copy_paste=0.013457200072250831, copy_paste_mode=flip, cos_lr=False, cutmix=0.0, data=/kaggle/working/yolo_flagella/flagella.yaml, degrees=153, deterministic=True, device=None, dfl=1.5, dnn=False, dropout=0.0, dynamic=False, embed=None, epochs=50, erasing=0.4, exist_ok=True, fliplr=0.44763727558302757, flipud=0.41732265985502187, format=torchscript, fraction=1.0, freeze=None, half=False, hsv_h=0.040547465359303675, hsv_s=0.10861698002730454, hsv_v=0.17858878914116455, imgsz=640, int8=False, iou=0.7, keras=False, kobj=1.0, line_width=None, lr0=0.0009284690023069423, lrf=0.008844856209190467, mask_ratio=4, max_det=300, mixup=0.13784906992316076, mode=train, model=yolov8s.pt, momentum=0.937, mosaic=0.5556829530562539, multi_scale=False, name=trial_8_20250516_093415, nbs=64, nms=False, opset=None, optimize=False, optimizer=auto, overlap_mask=True, patience=15, perspective=0.0, plots=True, pose=12.0, pretrained=True, profile=False, project=/kaggle/working/yolo_flagella, rect=False, resume=False, retina_masks=False, save=True, save_conf=False, save_crop=False, save_dir=/kaggle/working/yolo_flagella/trial_8_20250516_093415, save_frames=False, save_json=False, save_period=-1, save_txt=False, scale=0.5, seed=42, shear=0.0, show=False, show_boxes=True, show_conf=True, show_labels=True, simplify=True, single_cls=True, source=None, split=val, stream_buffer=False, task=detect, time=None, tracker=botsort.yaml, translate=0.1, val=True, verbose=True, vid_stride=1, visualize=False, warmup_bias_lr=0.1, warmup_epochs=3.0, warmup_momentum=0.8, weight_decay=0.00039494678651400363, workers=8, workspace=None\n",
      "\n"
     ]
    },
    {
     "name": "stderr",
     "output_type": "stream",
     "text": [
      "[I 2025-05-16 09:34:15,548] Trial 8 finished with value: 0.0 and parameters: {'lr0': 0.0009284690023069423, 'lrf': 0.008844856209190467, 'mosaic': 0.5556829530562539, 'mixup': 0.13784906992316076, 'copy_paste': 0.013457200072250831, 'hsv_h': 0.040547465359303675, 'hsv_s': 0.10861698002730454, 'hsv_v': 0.17858878914116455, 'degrees': 153, 'fliplr': 0.44763727558302757, 'flipud': 0.41732265985502187, 'box': 0.1544403990647483, 'cls': 0.7725198929103552, 'batch': 8, 'weight_decay': 0.00039494678651400363}. Best is trial 0 with value: 0.0.\n"
     ]
    },
    {
     "name": "stdout",
     "output_type": "stream",
     "text": [
      "Error in trial 8: Dataset '/kaggle/working/yolo_flagella/flagella.yaml' error ❌ Dataset '/kaggle/working/yolo_flagella/flagella.yaml' images not found, missing path '/kaggle/input/yolo-data/yolo_dataset/images/train'\n",
      "Note dataset download directory is '/kaggle/working/datasets'. You can update this in '/root/.config/Ultralytics/settings.json'\n",
      "\n",
      "=== Trial 9 ===\n",
      "lr0: 0.0008474976520424334\n",
      "lrf: 0.008626810222823085\n",
      "mosaic: 0.7989111086408168\n",
      "mixup: 0.15783262894471228\n",
      "copy_paste: 0.03669858864613539\n",
      "hsv_h: 0.019222380441351418\n",
      "hsv_s: 0.25190052453489303\n",
      "hsv_v: 0.24961018145506023\n",
      "degrees: 13\n",
      "fliplr: 0.05629149659470084\n",
      "flipud: 0.411807533795924\n",
      "box: 0.07907200349623025\n",
      "cls: 0.45191231976196056\n",
      "batch: 32\n",
      "weight_decay: 0.0005977592053660366\n",
      "Ultralytics 8.3.135 🚀 Python-3.11.11 torch-2.6.0+cu124 CUDA:0 (Tesla P100-PCIE-16GB, 16269MiB)\n",
      "\u001b[34m\u001b[1mengine/trainer: \u001b[0magnostic_nms=False, amp=True, augment=False, auto_augment=randaugment, batch=32, bgr=0.0, box=0.07907200349623025, cache=False, cfg=None, classes=None, close_mosaic=10, cls=0.45191231976196056, conf=None, copy_paste=0.03669858864613539, copy_paste_mode=flip, cos_lr=False, cutmix=0.0, data=/kaggle/working/yolo_flagella/flagella.yaml, degrees=13, deterministic=True, device=None, dfl=1.5, dnn=False, dropout=0.0, dynamic=False, embed=None, epochs=50, erasing=0.4, exist_ok=True, fliplr=0.05629149659470084, flipud=0.411807533795924, format=torchscript, fraction=1.0, freeze=None, half=False, hsv_h=0.019222380441351418, hsv_s=0.25190052453489303, hsv_v=0.24961018145506023, imgsz=640, int8=False, iou=0.7, keras=False, kobj=1.0, line_width=None, lr0=0.0008474976520424334, lrf=0.008626810222823085, mask_ratio=4, max_det=300, mixup=0.15783262894471228, mode=train, model=yolov8s.pt, momentum=0.937, mosaic=0.7989111086408168, multi_scale=False, name=trial_9_20250516_093415, nbs=64, nms=False, opset=None, optimize=False, optimizer=auto, overlap_mask=True, patience=15, perspective=0.0, plots=True, pose=12.0, pretrained=True, profile=False, project=/kaggle/working/yolo_flagella, rect=False, resume=False, retina_masks=False, save=True, save_conf=False, save_crop=False, save_dir=/kaggle/working/yolo_flagella/trial_9_20250516_093415, save_frames=False, save_json=False, save_period=-1, save_txt=False, scale=0.5, seed=42, shear=0.0, show=False, show_boxes=True, show_conf=True, show_labels=True, simplify=True, single_cls=True, source=None, split=val, stream_buffer=False, task=detect, time=None, tracker=botsort.yaml, translate=0.1, val=True, verbose=True, vid_stride=1, visualize=False, warmup_bias_lr=0.1, warmup_epochs=3.0, warmup_momentum=0.8, weight_decay=0.0005977592053660366, workers=8, workspace=None\n",
      "\n"
     ]
    },
    {
     "name": "stderr",
     "output_type": "stream",
     "text": [
      "[I 2025-05-16 09:34:15,682] Trial 9 finished with value: 0.0 and parameters: {'lr0': 0.0008474976520424334, 'lrf': 0.008626810222823085, 'mosaic': 0.7989111086408168, 'mixup': 0.15783262894471228, 'copy_paste': 0.03669858864613539, 'hsv_h': 0.019222380441351418, 'hsv_s': 0.25190052453489303, 'hsv_v': 0.24961018145506023, 'degrees': 13, 'fliplr': 0.05629149659470084, 'flipud': 0.411807533795924, 'box': 0.07907200349623025, 'cls': 0.45191231976196056, 'batch': 32, 'weight_decay': 0.0005977592053660366}. Best is trial 0 with value: 0.0.\n"
     ]
    },
    {
     "name": "stdout",
     "output_type": "stream",
     "text": [
      "Error in trial 9: Dataset '/kaggle/working/yolo_flagella/flagella.yaml' error ❌ Dataset '/kaggle/working/yolo_flagella/flagella.yaml' images not found, missing path '/kaggle/input/yolo-data/yolo_dataset/images/train'\n",
      "Note dataset download directory is '/kaggle/working/datasets'. You can update this in '/root/.config/Ultralytics/settings.json'\n",
      "\n",
      "=== Trial 10 ===\n",
      "lr0: 6.050730742986171e-05\n",
      "lrf: 0.0010979410933170315\n",
      "mosaic: 0.8986734615018939\n",
      "mixup: 0.19903829310363796\n",
      "copy_paste: 0.009843089411838568\n",
      "hsv_h: 0.0004508214796435225\n",
      "hsv_s: 0.21097387240255083\n",
      "hsv_v: 0.11055302220401261\n",
      "degrees: 178\n",
      "fliplr: 0.3575133058637029\n",
      "flipud: 0.48967442021023483\n",
      "box: 0.028448415649696565\n",
      "cls: 0.20554033806637573\n",
      "batch: 16\n",
      "weight_decay: 0.00022054206002334155\n",
      "Ultralytics 8.3.135 🚀 Python-3.11.11 torch-2.6.0+cu124 CUDA:0 (Tesla P100-PCIE-16GB, 16269MiB)\n",
      "\u001b[34m\u001b[1mengine/trainer: \u001b[0magnostic_nms=False, amp=True, augment=False, auto_augment=randaugment, batch=16, bgr=0.0, box=0.028448415649696565, cache=False, cfg=None, classes=None, close_mosaic=10, cls=0.20554033806637573, conf=None, copy_paste=0.009843089411838568, copy_paste_mode=flip, cos_lr=False, cutmix=0.0, data=/kaggle/working/yolo_flagella/flagella.yaml, degrees=178, deterministic=True, device=None, dfl=1.5, dnn=False, dropout=0.0, dynamic=False, embed=None, epochs=50, erasing=0.4, exist_ok=True, fliplr=0.3575133058637029, flipud=0.48967442021023483, format=torchscript, fraction=1.0, freeze=None, half=False, hsv_h=0.0004508214796435225, hsv_s=0.21097387240255083, hsv_v=0.11055302220401261, imgsz=640, int8=False, iou=0.7, keras=False, kobj=1.0, line_width=None, lr0=6.050730742986171e-05, lrf=0.0010979410933170315, mask_ratio=4, max_det=300, mixup=0.19903829310363796, mode=train, model=yolov8s.pt, momentum=0.937, mosaic=0.8986734615018939, multi_scale=False, name=trial_10_20250516_093415, nbs=64, nms=False, opset=None, optimize=False, optimizer=auto, overlap_mask=True, patience=15, perspective=0.0, plots=True, pose=12.0, pretrained=True, profile=False, project=/kaggle/working/yolo_flagella, rect=False, resume=False, retina_masks=False, save=True, save_conf=False, save_crop=False, save_dir=/kaggle/working/yolo_flagella/trial_10_20250516_093415, save_frames=False, save_json=False, save_period=-1, save_txt=False, scale=0.5, seed=42, shear=0.0, show=False, show_boxes=True, show_conf=True, show_labels=True, simplify=True, single_cls=True, source=None, split=val, stream_buffer=False, task=detect, time=None, tracker=botsort.yaml, translate=0.1, val=True, verbose=True, vid_stride=1, visualize=False, warmup_bias_lr=0.1, warmup_epochs=3.0, warmup_momentum=0.8, weight_decay=0.00022054206002334155, workers=8, workspace=None\n",
      "\n"
     ]
    },
    {
     "name": "stderr",
     "output_type": "stream",
     "text": [
      "[I 2025-05-16 09:34:15,981] Trial 10 finished with value: 0.0 and parameters: {'lr0': 6.050730742986171e-05, 'lrf': 0.0010979410933170315, 'mosaic': 0.8986734615018939, 'mixup': 0.19903829310363796, 'copy_paste': 0.009843089411838568, 'hsv_h': 0.0004508214796435225, 'hsv_s': 0.21097387240255083, 'hsv_v': 0.11055302220401261, 'degrees': 178, 'fliplr': 0.3575133058637029, 'flipud': 0.48967442021023483, 'box': 0.028448415649696565, 'cls': 0.20554033806637573, 'batch': 16, 'weight_decay': 0.00022054206002334155}. Best is trial 0 with value: 0.0.\n"
     ]
    },
    {
     "name": "stdout",
     "output_type": "stream",
     "text": [
      "Error in trial 10: Dataset '/kaggle/working/yolo_flagella/flagella.yaml' error ❌ Dataset '/kaggle/working/yolo_flagella/flagella.yaml' images not found, missing path '/kaggle/input/yolo-data/yolo_dataset/images/train'\n",
      "Note dataset download directory is '/kaggle/working/datasets'. You can update this in '/root/.config/Ultralytics/settings.json'\n",
      "\n",
      "=== Trial 11 ===\n",
      "lr0: 9.088554423454168e-05\n",
      "lrf: 0.006182609368332359\n",
      "mosaic: 0.8926951922210642\n",
      "mixup: 0.11426511430888256\n",
      "copy_paste: 0.06031673195273215\n",
      "hsv_h: 0.008661502248156623\n",
      "hsv_s: 0.20989179394569168\n",
      "hsv_v: 0.22575403676115385\n",
      "degrees: 123\n",
      "fliplr: 0.3278166770382217\n",
      "flipud: 0.2621834820832625\n",
      "box: 0.167694933381548\n",
      "cls: 0.6219553064302425\n",
      "batch: 16\n",
      "weight_decay: 0.00018687554397822084\n",
      "Ultralytics 8.3.135 🚀 Python-3.11.11 torch-2.6.0+cu124 CUDA:0 (Tesla P100-PCIE-16GB, 16269MiB)\n",
      "\u001b[34m\u001b[1mengine/trainer: \u001b[0magnostic_nms=False, amp=True, augment=False, auto_augment=randaugment, batch=16, bgr=0.0, box=0.167694933381548, cache=False, cfg=None, classes=None, close_mosaic=10, cls=0.6219553064302425, conf=None, copy_paste=0.06031673195273215, copy_paste_mode=flip, cos_lr=False, cutmix=0.0, data=/kaggle/working/yolo_flagella/flagella.yaml, degrees=123, deterministic=True, device=None, dfl=1.5, dnn=False, dropout=0.0, dynamic=False, embed=None, epochs=50, erasing=0.4, exist_ok=True, fliplr=0.3278166770382217, flipud=0.2621834820832625, format=torchscript, fraction=1.0, freeze=None, half=False, hsv_h=0.008661502248156623, hsv_s=0.20989179394569168, hsv_v=0.22575403676115385, imgsz=640, int8=False, iou=0.7, keras=False, kobj=1.0, line_width=None, lr0=9.088554423454168e-05, lrf=0.006182609368332359, mask_ratio=4, max_det=300, mixup=0.11426511430888256, mode=train, model=yolov8s.pt, momentum=0.937, mosaic=0.8926951922210642, multi_scale=False, name=trial_11_20250516_093415, nbs=64, nms=False, opset=None, optimize=False, optimizer=auto, overlap_mask=True, patience=15, perspective=0.0, plots=True, pose=12.0, pretrained=True, profile=False, project=/kaggle/working/yolo_flagella, rect=False, resume=False, retina_masks=False, save=True, save_conf=False, save_crop=False, save_dir=/kaggle/working/yolo_flagella/trial_11_20250516_093415, save_frames=False, save_json=False, save_period=-1, save_txt=False, scale=0.5, seed=42, shear=0.0, show=False, show_boxes=True, show_conf=True, show_labels=True, simplify=True, single_cls=True, source=None, split=val, stream_buffer=False, task=detect, time=None, tracker=botsort.yaml, translate=0.1, val=True, verbose=True, vid_stride=1, visualize=False, warmup_bias_lr=0.1, warmup_epochs=3.0, warmup_momentum=0.8, weight_decay=0.00018687554397822084, workers=8, workspace=None\n",
      "\n"
     ]
    },
    {
     "name": "stderr",
     "output_type": "stream",
     "text": [
      "[I 2025-05-16 09:34:16,153] Trial 11 finished with value: 0.0 and parameters: {'lr0': 9.088554423454168e-05, 'lrf': 0.006182609368332359, 'mosaic': 0.8926951922210642, 'mixup': 0.11426511430888256, 'copy_paste': 0.06031673195273215, 'hsv_h': 0.008661502248156623, 'hsv_s': 0.20989179394569168, 'hsv_v': 0.22575403676115385, 'degrees': 123, 'fliplr': 0.3278166770382217, 'flipud': 0.2621834820832625, 'box': 0.167694933381548, 'cls': 0.6219553064302425, 'batch': 16, 'weight_decay': 0.00018687554397822084}. Best is trial 0 with value: 0.0.\n"
     ]
    },
    {
     "name": "stdout",
     "output_type": "stream",
     "text": [
      "Error in trial 11: Dataset '/kaggle/working/yolo_flagella/flagella.yaml' error ❌ Dataset '/kaggle/working/yolo_flagella/flagella.yaml' images not found, missing path '/kaggle/input/yolo-data/yolo_dataset/images/train'\n",
      "Note dataset download directory is '/kaggle/working/datasets'. You can update this in '/root/.config/Ultralytics/settings.json'\n",
      "\n",
      "=== Trial 12 ===\n",
      "lr0: 0.000154639205887609\n",
      "lrf: 0.006113002889579468\n",
      "mosaic: 0.6435517860105184\n",
      "mixup: 0.1559320998129337\n",
      "copy_paste: 0.03168783364013508\n",
      "hsv_h: 0.027028712644452883\n",
      "hsv_s: 0.293879079375587\n",
      "hsv_v: 0.11154172933086444\n",
      "degrees: 124\n",
      "fliplr: 0.38526216445248773\n",
      "flipud: 0.3181787532534358\n",
      "box: 0.1442824799440135\n",
      "cls: 0.5306755118854725\n",
      "batch: 16\n",
      "weight_decay: 3.6758009365180583e-05\n",
      "Ultralytics 8.3.135 🚀 Python-3.11.11 torch-2.6.0+cu124 CUDA:0 (Tesla P100-PCIE-16GB, 16269MiB)\n",
      "\u001b[34m\u001b[1mengine/trainer: \u001b[0magnostic_nms=False, amp=True, augment=False, auto_augment=randaugment, batch=16, bgr=0.0, box=0.1442824799440135, cache=False, cfg=None, classes=None, close_mosaic=10, cls=0.5306755118854725, conf=None, copy_paste=0.03168783364013508, copy_paste_mode=flip, cos_lr=False, cutmix=0.0, data=/kaggle/working/yolo_flagella/flagella.yaml, degrees=124, deterministic=True, device=None, dfl=1.5, dnn=False, dropout=0.0, dynamic=False, embed=None, epochs=50, erasing=0.4, exist_ok=True, fliplr=0.38526216445248773, flipud=0.3181787532534358, format=torchscript, fraction=1.0, freeze=None, half=False, hsv_h=0.027028712644452883, hsv_s=0.293879079375587, hsv_v=0.11154172933086444, imgsz=640, int8=False, iou=0.7, keras=False, kobj=1.0, line_width=None, lr0=0.000154639205887609, lrf=0.006113002889579468, mask_ratio=4, max_det=300, mixup=0.1559320998129337, mode=train, model=yolov8s.pt, momentum=0.937, mosaic=0.6435517860105184, multi_scale=False, name=trial_12_20250516_093416, nbs=64, nms=False, opset=None, optimize=False, optimizer=auto, overlap_mask=True, patience=15, perspective=0.0, plots=True, pose=12.0, pretrained=True, profile=False, project=/kaggle/working/yolo_flagella, rect=False, resume=False, retina_masks=False, save=True, save_conf=False, save_crop=False, save_dir=/kaggle/working/yolo_flagella/trial_12_20250516_093416, save_frames=False, save_json=False, save_period=-1, save_txt=False, scale=0.5, seed=42, shear=0.0, show=False, show_boxes=True, show_conf=True, show_labels=True, simplify=True, single_cls=True, source=None, split=val, stream_buffer=False, task=detect, time=None, tracker=botsort.yaml, translate=0.1, val=True, verbose=True, vid_stride=1, visualize=False, warmup_bias_lr=0.1, warmup_epochs=3.0, warmup_momentum=0.8, weight_decay=3.6758009365180583e-05, workers=8, workspace=None\n",
      "\n"
     ]
    },
    {
     "name": "stderr",
     "output_type": "stream",
     "text": [
      "[I 2025-05-16 09:34:16,330] Trial 12 finished with value: 0.0 and parameters: {'lr0': 0.000154639205887609, 'lrf': 0.006113002889579468, 'mosaic': 0.6435517860105184, 'mixup': 0.1559320998129337, 'copy_paste': 0.03168783364013508, 'hsv_h': 0.027028712644452883, 'hsv_s': 0.293879079375587, 'hsv_v': 0.11154172933086444, 'degrees': 124, 'fliplr': 0.38526216445248773, 'flipud': 0.3181787532534358, 'box': 0.1442824799440135, 'cls': 0.5306755118854725, 'batch': 16, 'weight_decay': 3.6758009365180583e-05}. Best is trial 0 with value: 0.0.\n"
     ]
    },
    {
     "name": "stdout",
     "output_type": "stream",
     "text": [
      "Error in trial 12: Dataset '/kaggle/working/yolo_flagella/flagella.yaml' error ❌ Dataset '/kaggle/working/yolo_flagella/flagella.yaml' images not found, missing path '/kaggle/input/yolo-data/yolo_dataset/images/train'\n",
      "Note dataset download directory is '/kaggle/working/datasets'. You can update this in '/root/.config/Ultralytics/settings.json'\n",
      "\n",
      "=== Trial 13 ===\n",
      "lr0: 0.00044841468092090956\n",
      "lrf: 0.001673564843141348\n",
      "mosaic: 0.8348581657927039\n",
      "mixup: 0.06648916213491925\n",
      "copy_paste: 0.06572071763388468\n",
      "hsv_h: 0.02795983120991724\n",
      "hsv_s: 0.1997179119754171\n",
      "hsv_v: 0.16720220804138583\n",
      "degrees: 153\n",
      "fliplr: 0.1386155838609235\n",
      "flipud: 0.49242736694865785\n",
      "box: 0.1789836618925143\n",
      "cls: 0.6946687088742124\n",
      "batch: 16\n",
      "weight_decay: 0.00015099464924197742\n",
      "Ultralytics 8.3.135 🚀 Python-3.11.11 torch-2.6.0+cu124 CUDA:0 (Tesla P100-PCIE-16GB, 16269MiB)\n",
      "\u001b[34m\u001b[1mengine/trainer: \u001b[0magnostic_nms=False, amp=True, augment=False, auto_augment=randaugment, batch=16, bgr=0.0, box=0.1789836618925143, cache=False, cfg=None, classes=None, close_mosaic=10, cls=0.6946687088742124, conf=None, copy_paste=0.06572071763388468, copy_paste_mode=flip, cos_lr=False, cutmix=0.0, data=/kaggle/working/yolo_flagella/flagella.yaml, degrees=153, deterministic=True, device=None, dfl=1.5, dnn=False, dropout=0.0, dynamic=False, embed=None, epochs=50, erasing=0.4, exist_ok=True, fliplr=0.1386155838609235, flipud=0.49242736694865785, format=torchscript, fraction=1.0, freeze=None, half=False, hsv_h=0.02795983120991724, hsv_s=0.1997179119754171, hsv_v=0.16720220804138583, imgsz=640, int8=False, iou=0.7, keras=False, kobj=1.0, line_width=None, lr0=0.00044841468092090956, lrf=0.001673564843141348, mask_ratio=4, max_det=300, mixup=0.06648916213491925, mode=train, model=yolov8s.pt, momentum=0.937, mosaic=0.8348581657927039, multi_scale=False, name=trial_13_20250516_093416, nbs=64, nms=False, opset=None, optimize=False, optimizer=auto, overlap_mask=True, patience=15, perspective=0.0, plots=True, pose=12.0, pretrained=True, profile=False, project=/kaggle/working/yolo_flagella, rect=False, resume=False, retina_masks=False, save=True, save_conf=False, save_crop=False, save_dir=/kaggle/working/yolo_flagella/trial_13_20250516_093416, save_frames=False, save_json=False, save_period=-1, save_txt=False, scale=0.5, seed=42, shear=0.0, show=False, show_boxes=True, show_conf=True, show_labels=True, simplify=True, single_cls=True, source=None, split=val, stream_buffer=False, task=detect, time=None, tracker=botsort.yaml, translate=0.1, val=True, verbose=True, vid_stride=1, visualize=False, warmup_bias_lr=0.1, warmup_epochs=3.0, warmup_momentum=0.8, weight_decay=0.00015099464924197742, workers=8, workspace=None\n",
      "\n"
     ]
    },
    {
     "name": "stderr",
     "output_type": "stream",
     "text": [
      "[I 2025-05-16 09:34:16,512] Trial 13 finished with value: 0.0 and parameters: {'lr0': 0.00044841468092090956, 'lrf': 0.001673564843141348, 'mosaic': 0.8348581657927039, 'mixup': 0.06648916213491925, 'copy_paste': 0.06572071763388468, 'hsv_h': 0.02795983120991724, 'hsv_s': 0.1997179119754171, 'hsv_v': 0.16720220804138583, 'degrees': 153, 'fliplr': 0.1386155838609235, 'flipud': 0.49242736694865785, 'box': 0.1789836618925143, 'cls': 0.6946687088742124, 'batch': 16, 'weight_decay': 0.00015099464924197742}. Best is trial 0 with value: 0.0.\n"
     ]
    },
    {
     "name": "stdout",
     "output_type": "stream",
     "text": [
      "Error in trial 13: Dataset '/kaggle/working/yolo_flagella/flagella.yaml' error ❌ Dataset '/kaggle/working/yolo_flagella/flagella.yaml' images not found, missing path '/kaggle/input/yolo-data/yolo_dataset/images/train'\n",
      "Note dataset download directory is '/kaggle/working/datasets'. You can update this in '/root/.config/Ultralytics/settings.json'\n",
      "\n",
      "=== Trial 14 ===\n",
      "lr0: 5.6514728620596754e-05\n",
      "lrf: 0.009721274904538635\n",
      "mosaic: 0.7280905117729567\n",
      "mixup: 0.13465152150316517\n",
      "copy_paste: 0.028695372862016146\n",
      "hsv_h: 0.007887589282549009\n",
      "hsv_s: 0.18310245529825322\n",
      "hsv_v: 0.2852757297555343\n",
      "degrees: 105\n",
      "fliplr: 0.3013765831949605\n",
      "flipud: 0.18548787306568132\n",
      "box: 0.1440150320162683\n",
      "cls: 0.33857215170232496\n",
      "batch: 16\n",
      "weight_decay: 3.803660990519038e-05\n",
      "Ultralytics 8.3.135 🚀 Python-3.11.11 torch-2.6.0+cu124 CUDA:0 (Tesla P100-PCIE-16GB, 16269MiB)\n",
      "\u001b[34m\u001b[1mengine/trainer: \u001b[0magnostic_nms=False, amp=True, augment=False, auto_augment=randaugment, batch=16, bgr=0.0, box=0.1440150320162683, cache=False, cfg=None, classes=None, close_mosaic=10, cls=0.33857215170232496, conf=None, copy_paste=0.028695372862016146, copy_paste_mode=flip, cos_lr=False, cutmix=0.0, data=/kaggle/working/yolo_flagella/flagella.yaml, degrees=105, deterministic=True, device=None, dfl=1.5, dnn=False, dropout=0.0, dynamic=False, embed=None, epochs=50, erasing=0.4, exist_ok=True, fliplr=0.3013765831949605, flipud=0.18548787306568132, format=torchscript, fraction=1.0, freeze=None, half=False, hsv_h=0.007887589282549009, hsv_s=0.18310245529825322, hsv_v=0.2852757297555343, imgsz=640, int8=False, iou=0.7, keras=False, kobj=1.0, line_width=None, lr0=5.6514728620596754e-05, lrf=0.009721274904538635, mask_ratio=4, max_det=300, mixup=0.13465152150316517, mode=train, model=yolov8s.pt, momentum=0.937, mosaic=0.7280905117729567, multi_scale=False, name=trial_14_20250516_093416, nbs=64, nms=False, opset=None, optimize=False, optimizer=auto, overlap_mask=True, patience=15, perspective=0.0, plots=True, pose=12.0, pretrained=True, profile=False, project=/kaggle/working/yolo_flagella, rect=False, resume=False, retina_masks=False, save=True, save_conf=False, save_crop=False, save_dir=/kaggle/working/yolo_flagella/trial_14_20250516_093416, save_frames=False, save_json=False, save_period=-1, save_txt=False, scale=0.5, seed=42, shear=0.0, show=False, show_boxes=True, show_conf=True, show_labels=True, simplify=True, single_cls=True, source=None, split=val, stream_buffer=False, task=detect, time=None, tracker=botsort.yaml, translate=0.1, val=True, verbose=True, vid_stride=1, visualize=False, warmup_bias_lr=0.1, warmup_epochs=3.0, warmup_momentum=0.8, weight_decay=3.803660990519038e-05, workers=8, workspace=None\n",
      "\n"
     ]
    },
    {
     "name": "stderr",
     "output_type": "stream",
     "text": [
      "[I 2025-05-16 09:34:16,695] Trial 14 finished with value: 0.0 and parameters: {'lr0': 5.6514728620596754e-05, 'lrf': 0.009721274904538635, 'mosaic': 0.7280905117729567, 'mixup': 0.13465152150316517, 'copy_paste': 0.028695372862016146, 'hsv_h': 0.007887589282549009, 'hsv_s': 0.18310245529825322, 'hsv_v': 0.2852757297555343, 'degrees': 105, 'fliplr': 0.3013765831949605, 'flipud': 0.18548787306568132, 'box': 0.1440150320162683, 'cls': 0.33857215170232496, 'batch': 16, 'weight_decay': 3.803660990519038e-05}. Best is trial 0 with value: 0.0.\n"
     ]
    },
    {
     "name": "stdout",
     "output_type": "stream",
     "text": [
      "Error in trial 14: Dataset '/kaggle/working/yolo_flagella/flagella.yaml' error ❌ Dataset '/kaggle/working/yolo_flagella/flagella.yaml' images not found, missing path '/kaggle/input/yolo-data/yolo_dataset/images/train'\n",
      "Note dataset download directory is '/kaggle/working/datasets'. You can update this in '/root/.config/Ultralytics/settings.json'\n",
      "\n",
      "=== Trial 15 ===\n",
      "lr0: 0.00011716033362688077\n",
      "lrf: 0.005563242542772457\n",
      "mosaic: 0.8401204475986999\n",
      "mixup: 0.1763009286270881\n",
      "copy_paste: 0.0035166240457874393\n",
      "hsv_h: 0.0006619166714659204\n",
      "hsv_s: 0.254116642363873\n",
      "hsv_v: 0.22427825992441738\n",
      "degrees: 148\n",
      "fliplr: 0.4156578701211123\n",
      "flipud: 0.3304731458298169\n",
      "box: 0.19930608068609929\n",
      "cls: 0.5274298447278987\n",
      "batch: 16\n",
      "weight_decay: 1.070957650837443e-05\n",
      "Ultralytics 8.3.135 🚀 Python-3.11.11 torch-2.6.0+cu124 CUDA:0 (Tesla P100-PCIE-16GB, 16269MiB)\n",
      "\u001b[34m\u001b[1mengine/trainer: \u001b[0magnostic_nms=False, amp=True, augment=False, auto_augment=randaugment, batch=16, bgr=0.0, box=0.19930608068609929, cache=False, cfg=None, classes=None, close_mosaic=10, cls=0.5274298447278987, conf=None, copy_paste=0.0035166240457874393, copy_paste_mode=flip, cos_lr=False, cutmix=0.0, data=/kaggle/working/yolo_flagella/flagella.yaml, degrees=148, deterministic=True, device=None, dfl=1.5, dnn=False, dropout=0.0, dynamic=False, embed=None, epochs=50, erasing=0.4, exist_ok=True, fliplr=0.4156578701211123, flipud=0.3304731458298169, format=torchscript, fraction=1.0, freeze=None, half=False, hsv_h=0.0006619166714659204, hsv_s=0.254116642363873, hsv_v=0.22427825992441738, imgsz=640, int8=False, iou=0.7, keras=False, kobj=1.0, line_width=None, lr0=0.00011716033362688077, lrf=0.005563242542772457, mask_ratio=4, max_det=300, mixup=0.1763009286270881, mode=train, model=yolov8s.pt, momentum=0.937, mosaic=0.8401204475986999, multi_scale=False, name=trial_15_20250516_093416, nbs=64, nms=False, opset=None, optimize=False, optimizer=auto, overlap_mask=True, patience=15, perspective=0.0, plots=True, pose=12.0, pretrained=True, profile=False, project=/kaggle/working/yolo_flagella, rect=False, resume=False, retina_masks=False, save=True, save_conf=False, save_crop=False, save_dir=/kaggle/working/yolo_flagella/trial_15_20250516_093416, save_frames=False, save_json=False, save_period=-1, save_txt=False, scale=0.5, seed=42, shear=0.0, show=False, show_boxes=True, show_conf=True, show_labels=True, simplify=True, single_cls=True, source=None, split=val, stream_buffer=False, task=detect, time=None, tracker=botsort.yaml, translate=0.1, val=True, verbose=True, vid_stride=1, visualize=False, warmup_bias_lr=0.1, warmup_epochs=3.0, warmup_momentum=0.8, weight_decay=1.070957650837443e-05, workers=8, workspace=None\n",
      "\n"
     ]
    },
    {
     "name": "stderr",
     "output_type": "stream",
     "text": [
      "[I 2025-05-16 09:34:16,873] Trial 15 finished with value: 0.0 and parameters: {'lr0': 0.00011716033362688077, 'lrf': 0.005563242542772457, 'mosaic': 0.8401204475986999, 'mixup': 0.1763009286270881, 'copy_paste': 0.0035166240457874393, 'hsv_h': 0.0006619166714659204, 'hsv_s': 0.254116642363873, 'hsv_v': 0.22427825992441738, 'degrees': 148, 'fliplr': 0.4156578701211123, 'flipud': 0.3304731458298169, 'box': 0.19930608068609929, 'cls': 0.5274298447278987, 'batch': 16, 'weight_decay': 1.070957650837443e-05}. Best is trial 0 with value: 0.0.\n"
     ]
    },
    {
     "name": "stdout",
     "output_type": "stream",
     "text": [
      "Error in trial 15: Dataset '/kaggle/working/yolo_flagella/flagella.yaml' error ❌ Dataset '/kaggle/working/yolo_flagella/flagella.yaml' images not found, missing path '/kaggle/input/yolo-data/yolo_dataset/images/train'\n",
      "Note dataset download directory is '/kaggle/working/datasets'. You can update this in '/root/.config/Ultralytics/settings.json'\n",
      "\n",
      "=== Trial 16 ===\n",
      "lr0: 1.1721071077294785e-05\n",
      "lrf: 0.0074371560836936496\n",
      "mosaic: 0.6451119614966044\n",
      "mixup: 0.13395926187920165\n",
      "copy_paste: 0.0680742430560573\n",
      "hsv_h: 0.013015934116674123\n",
      "hsv_s: 0.2540660928792387\n",
      "hsv_v: 0.09220631529041237\n",
      "degrees: 179\n",
      "fliplr: 0.497747527088717\n",
      "flipud: 0.1784952688667051\n",
      "box: 0.1309778502994517\n",
      "cls: 0.6568777627260346\n",
      "batch: 16\n",
      "weight_decay: 0.0003422951138578307\n",
      "Ultralytics 8.3.135 🚀 Python-3.11.11 torch-2.6.0+cu124 CUDA:0 (Tesla P100-PCIE-16GB, 16269MiB)\n",
      "\u001b[34m\u001b[1mengine/trainer: \u001b[0magnostic_nms=False, amp=True, augment=False, auto_augment=randaugment, batch=16, bgr=0.0, box=0.1309778502994517, cache=False, cfg=None, classes=None, close_mosaic=10, cls=0.6568777627260346, conf=None, copy_paste=0.0680742430560573, copy_paste_mode=flip, cos_lr=False, cutmix=0.0, data=/kaggle/working/yolo_flagella/flagella.yaml, degrees=179, deterministic=True, device=None, dfl=1.5, dnn=False, dropout=0.0, dynamic=False, embed=None, epochs=50, erasing=0.4, exist_ok=True, fliplr=0.497747527088717, flipud=0.1784952688667051, format=torchscript, fraction=1.0, freeze=None, half=False, hsv_h=0.013015934116674123, hsv_s=0.2540660928792387, hsv_v=0.09220631529041237, imgsz=640, int8=False, iou=0.7, keras=False, kobj=1.0, line_width=None, lr0=1.1721071077294785e-05, lrf=0.0074371560836936496, mask_ratio=4, max_det=300, mixup=0.13395926187920165, mode=train, model=yolov8s.pt, momentum=0.937, mosaic=0.6451119614966044, multi_scale=False, name=trial_16_20250516_093416, nbs=64, nms=False, opset=None, optimize=False, optimizer=auto, overlap_mask=True, patience=15, perspective=0.0, plots=True, pose=12.0, pretrained=True, profile=False, project=/kaggle/working/yolo_flagella, rect=False, resume=False, retina_masks=False, save=True, save_conf=False, save_crop=False, save_dir=/kaggle/working/yolo_flagella/trial_16_20250516_093416, save_frames=False, save_json=False, save_period=-1, save_txt=False, scale=0.5, seed=42, shear=0.0, show=False, show_boxes=True, show_conf=True, show_labels=True, simplify=True, single_cls=True, source=None, split=val, stream_buffer=False, task=detect, time=None, tracker=botsort.yaml, translate=0.1, val=True, verbose=True, vid_stride=1, visualize=False, warmup_bias_lr=0.1, warmup_epochs=3.0, warmup_momentum=0.8, weight_decay=0.0003422951138578307, workers=8, workspace=None\n",
      "\n"
     ]
    },
    {
     "name": "stderr",
     "output_type": "stream",
     "text": [
      "[I 2025-05-16 09:34:17,057] Trial 16 finished with value: 0.0 and parameters: {'lr0': 1.1721071077294785e-05, 'lrf': 0.0074371560836936496, 'mosaic': 0.6451119614966044, 'mixup': 0.13395926187920165, 'copy_paste': 0.0680742430560573, 'hsv_h': 0.013015934116674123, 'hsv_s': 0.2540660928792387, 'hsv_v': 0.09220631529041237, 'degrees': 179, 'fliplr': 0.497747527088717, 'flipud': 0.1784952688667051, 'box': 0.1309778502994517, 'cls': 0.6568777627260346, 'batch': 16, 'weight_decay': 0.0003422951138578307}. Best is trial 0 with value: 0.0.\n"
     ]
    },
    {
     "name": "stdout",
     "output_type": "stream",
     "text": [
      "Error in trial 16: Dataset '/kaggle/working/yolo_flagella/flagella.yaml' error ❌ Dataset '/kaggle/working/yolo_flagella/flagella.yaml' images not found, missing path '/kaggle/input/yolo-data/yolo_dataset/images/train'\n",
      "Note dataset download directory is '/kaggle/working/datasets'. You can update this in '/root/.config/Ultralytics/settings.json'\n",
      "\n",
      "=== Trial 17 ===\n",
      "lr0: 0.0004391420678690082\n",
      "lrf: 0.004700185369787395\n",
      "mosaic: 0.7310208313117454\n",
      "mixup: 0.0835460817014144\n",
      "copy_paste: 0.09803340814697552\n",
      "hsv_h: 0.023998880708079626\n",
      "hsv_s: 0.010184896675289185\n",
      "hsv_v: 0.14514200762794238\n",
      "degrees: 141\n",
      "fliplr: 0.0194480576089458\n",
      "flipud: 0.44129386860021175\n",
      "box: 0.1662605684527012\n",
      "cls: 0.7480300383571931\n",
      "batch: 16\n",
      "weight_decay: 0.00010235705405437516\n",
      "Ultralytics 8.3.135 🚀 Python-3.11.11 torch-2.6.0+cu124 CUDA:0 (Tesla P100-PCIE-16GB, 16269MiB)\n",
      "\u001b[34m\u001b[1mengine/trainer: \u001b[0magnostic_nms=False, amp=True, augment=False, auto_augment=randaugment, batch=16, bgr=0.0, box=0.1662605684527012, cache=False, cfg=None, classes=None, close_mosaic=10, cls=0.7480300383571931, conf=None, copy_paste=0.09803340814697552, copy_paste_mode=flip, cos_lr=False, cutmix=0.0, data=/kaggle/working/yolo_flagella/flagella.yaml, degrees=141, deterministic=True, device=None, dfl=1.5, dnn=False, dropout=0.0, dynamic=False, embed=None, epochs=50, erasing=0.4, exist_ok=True, fliplr=0.0194480576089458, flipud=0.44129386860021175, format=torchscript, fraction=1.0, freeze=None, half=False, hsv_h=0.023998880708079626, hsv_s=0.010184896675289185, hsv_v=0.14514200762794238, imgsz=640, int8=False, iou=0.7, keras=False, kobj=1.0, line_width=None, lr0=0.0004391420678690082, lrf=0.004700185369787395, mask_ratio=4, max_det=300, mixup=0.0835460817014144, mode=train, model=yolov8s.pt, momentum=0.937, mosaic=0.7310208313117454, multi_scale=False, name=trial_17_20250516_093417, nbs=64, nms=False, opset=None, optimize=False, optimizer=auto, overlap_mask=True, patience=15, perspective=0.0, plots=True, pose=12.0, pretrained=True, profile=False, project=/kaggle/working/yolo_flagella, rect=False, resume=False, retina_masks=False, save=True, save_conf=False, save_crop=False, save_dir=/kaggle/working/yolo_flagella/trial_17_20250516_093417, save_frames=False, save_json=False, save_period=-1, save_txt=False, scale=0.5, seed=42, shear=0.0, show=False, show_boxes=True, show_conf=True, show_labels=True, simplify=True, single_cls=True, source=None, split=val, stream_buffer=False, task=detect, time=None, tracker=botsort.yaml, translate=0.1, val=True, verbose=True, vid_stride=1, visualize=False, warmup_bias_lr=0.1, warmup_epochs=3.0, warmup_momentum=0.8, weight_decay=0.00010235705405437516, workers=8, workspace=None\n",
      "\n"
     ]
    },
    {
     "name": "stderr",
     "output_type": "stream",
     "text": [
      "[I 2025-05-16 09:34:17,237] Trial 17 finished with value: 0.0 and parameters: {'lr0': 0.0004391420678690082, 'lrf': 0.004700185369787395, 'mosaic': 0.7310208313117454, 'mixup': 0.0835460817014144, 'copy_paste': 0.09803340814697552, 'hsv_h': 0.023998880708079626, 'hsv_s': 0.010184896675289185, 'hsv_v': 0.14514200762794238, 'degrees': 141, 'fliplr': 0.0194480576089458, 'flipud': 0.44129386860021175, 'box': 0.1662605684527012, 'cls': 0.7480300383571931, 'batch': 16, 'weight_decay': 0.00010235705405437516}. Best is trial 0 with value: 0.0.\n"
     ]
    },
    {
     "name": "stdout",
     "output_type": "stream",
     "text": [
      "Error in trial 17: Dataset '/kaggle/working/yolo_flagella/flagella.yaml' error ❌ Dataset '/kaggle/working/yolo_flagella/flagella.yaml' images not found, missing path '/kaggle/input/yolo-data/yolo_dataset/images/train'\n",
      "Note dataset download directory is '/kaggle/working/datasets'. You can update this in '/root/.config/Ultralytics/settings.json'\n",
      "\n",
      "=== Trial 18 ===\n",
      "lr0: 0.00019319010470530612\n",
      "lrf: 0.002012173657364943\n",
      "mosaic: 0.5038958688493242\n",
      "mixup: 0.17896157174537217\n",
      "copy_paste: 0.021239324705904894\n",
      "hsv_h: 0.0061087146292231175\n",
      "hsv_s: 0.17416433098810752\n",
      "hsv_v: 0.1949537206350005\n",
      "degrees: 95\n",
      "fliplr: 0.26775480021110354\n",
      "flipud: 0.30968050367860456\n",
      "box: 0.06435398294808635\n",
      "cls: 0.5996973551660331\n",
      "batch: 16\n",
      "weight_decay: 0.0009753777070791163\n",
      "Ultralytics 8.3.135 🚀 Python-3.11.11 torch-2.6.0+cu124 CUDA:0 (Tesla P100-PCIE-16GB, 16269MiB)\n",
      "\u001b[34m\u001b[1mengine/trainer: \u001b[0magnostic_nms=False, amp=True, augment=False, auto_augment=randaugment, batch=16, bgr=0.0, box=0.06435398294808635, cache=False, cfg=None, classes=None, close_mosaic=10, cls=0.5996973551660331, conf=None, copy_paste=0.021239324705904894, copy_paste_mode=flip, cos_lr=False, cutmix=0.0, data=/kaggle/working/yolo_flagella/flagella.yaml, degrees=95, deterministic=True, device=None, dfl=1.5, dnn=False, dropout=0.0, dynamic=False, embed=None, epochs=50, erasing=0.4, exist_ok=True, fliplr=0.26775480021110354, flipud=0.30968050367860456, format=torchscript, fraction=1.0, freeze=None, half=False, hsv_h=0.0061087146292231175, hsv_s=0.17416433098810752, hsv_v=0.1949537206350005, imgsz=640, int8=False, iou=0.7, keras=False, kobj=1.0, line_width=None, lr0=0.00019319010470530612, lrf=0.002012173657364943, mask_ratio=4, max_det=300, mixup=0.17896157174537217, mode=train, model=yolov8s.pt, momentum=0.937, mosaic=0.5038958688493242, multi_scale=False, name=trial_18_20250516_093417, nbs=64, nms=False, opset=None, optimize=False, optimizer=auto, overlap_mask=True, patience=15, perspective=0.0, plots=True, pose=12.0, pretrained=True, profile=False, project=/kaggle/working/yolo_flagella, rect=False, resume=False, retina_masks=False, save=True, save_conf=False, save_crop=False, save_dir=/kaggle/working/yolo_flagella/trial_18_20250516_093417, save_frames=False, save_json=False, save_period=-1, save_txt=False, scale=0.5, seed=42, shear=0.0, show=False, show_boxes=True, show_conf=True, show_labels=True, simplify=True, single_cls=True, source=None, split=val, stream_buffer=False, task=detect, time=None, tracker=botsort.yaml, translate=0.1, val=True, verbose=True, vid_stride=1, visualize=False, warmup_bias_lr=0.1, warmup_epochs=3.0, warmup_momentum=0.8, weight_decay=0.0009753777070791163, workers=8, workspace=None\n",
      "\n"
     ]
    },
    {
     "name": "stderr",
     "output_type": "stream",
     "text": [
      "[I 2025-05-16 09:34:17,412] Trial 18 finished with value: 0.0 and parameters: {'lr0': 0.00019319010470530612, 'lrf': 0.002012173657364943, 'mosaic': 0.5038958688493242, 'mixup': 0.17896157174537217, 'copy_paste': 0.021239324705904894, 'hsv_h': 0.0061087146292231175, 'hsv_s': 0.17416433098810752, 'hsv_v': 0.1949537206350005, 'degrees': 95, 'fliplr': 0.26775480021110354, 'flipud': 0.30968050367860456, 'box': 0.06435398294808635, 'cls': 0.5996973551660331, 'batch': 16, 'weight_decay': 0.0009753777070791163}. Best is trial 0 with value: 0.0.\n"
     ]
    },
    {
     "name": "stdout",
     "output_type": "stream",
     "text": [
      "Error in trial 18: Dataset '/kaggle/working/yolo_flagella/flagella.yaml' error ❌ Dataset '/kaggle/working/yolo_flagella/flagella.yaml' images not found, missing path '/kaggle/input/yolo-data/yolo_dataset/images/train'\n",
      "Note dataset download directory is '/kaggle/working/datasets'. You can update this in '/root/.config/Ultralytics/settings.json'\n",
      "\n",
      "=== Trial 19 ===\n",
      "lr0: 0.0003647052053022239\n",
      "lrf: 0.007344340712073072\n",
      "mosaic: 0.8446797164166171\n",
      "mixup: 0.12188358365581164\n",
      "copy_paste: 0.04924607962134962\n",
      "hsv_h: 0.022839880378920915\n",
      "hsv_s: 0.2901988077551627\n",
      "hsv_v: 0.07015301786102993\n",
      "degrees: 134\n",
      "fliplr: 0.1716804614546295\n",
      "flipud: 0.45664324651542904\n",
      "box: 0.104894651309579\n",
      "cls: 0.3599797531153722\n",
      "batch: 8\n",
      "weight_decay: 2.412450428250178e-05\n",
      "Ultralytics 8.3.135 🚀 Python-3.11.11 torch-2.6.0+cu124 CUDA:0 (Tesla P100-PCIE-16GB, 16269MiB)\n",
      "\u001b[34m\u001b[1mengine/trainer: \u001b[0magnostic_nms=False, amp=True, augment=False, auto_augment=randaugment, batch=8, bgr=0.0, box=0.104894651309579, cache=False, cfg=None, classes=None, close_mosaic=10, cls=0.3599797531153722, conf=None, copy_paste=0.04924607962134962, copy_paste_mode=flip, cos_lr=False, cutmix=0.0, data=/kaggle/working/yolo_flagella/flagella.yaml, degrees=134, deterministic=True, device=None, dfl=1.5, dnn=False, dropout=0.0, dynamic=False, embed=None, epochs=50, erasing=0.4, exist_ok=True, fliplr=0.1716804614546295, flipud=0.45664324651542904, format=torchscript, fraction=1.0, freeze=None, half=False, hsv_h=0.022839880378920915, hsv_s=0.2901988077551627, hsv_v=0.07015301786102993, imgsz=640, int8=False, iou=0.7, keras=False, kobj=1.0, line_width=None, lr0=0.0003647052053022239, lrf=0.007344340712073072, mask_ratio=4, max_det=300, mixup=0.12188358365581164, mode=train, model=yolov8s.pt, momentum=0.937, mosaic=0.8446797164166171, multi_scale=False, name=trial_19_20250516_093417, nbs=64, nms=False, opset=None, optimize=False, optimizer=auto, overlap_mask=True, patience=15, perspective=0.0, plots=True, pose=12.0, pretrained=True, profile=False, project=/kaggle/working/yolo_flagella, rect=False, resume=False, retina_masks=False, save=True, save_conf=False, save_crop=False, save_dir=/kaggle/working/yolo_flagella/trial_19_20250516_093417, save_frames=False, save_json=False, save_period=-1, save_txt=False, scale=0.5, seed=42, shear=0.0, show=False, show_boxes=True, show_conf=True, show_labels=True, simplify=True, single_cls=True, source=None, split=val, stream_buffer=False, task=detect, time=None, tracker=botsort.yaml, translate=0.1, val=True, verbose=True, vid_stride=1, visualize=False, warmup_bias_lr=0.1, warmup_epochs=3.0, warmup_momentum=0.8, weight_decay=2.412450428250178e-05, workers=8, workspace=None\n",
      "\n"
     ]
    },
    {
     "name": "stderr",
     "output_type": "stream",
     "text": [
      "[I 2025-05-16 09:34:17,595] Trial 19 finished with value: 0.0 and parameters: {'lr0': 0.0003647052053022239, 'lrf': 0.007344340712073072, 'mosaic': 0.8446797164166171, 'mixup': 0.12188358365581164, 'copy_paste': 0.04924607962134962, 'hsv_h': 0.022839880378920915, 'hsv_s': 0.2901988077551627, 'hsv_v': 0.07015301786102993, 'degrees': 134, 'fliplr': 0.1716804614546295, 'flipud': 0.45664324651542904, 'box': 0.104894651309579, 'cls': 0.3599797531153722, 'batch': 8, 'weight_decay': 2.412450428250178e-05}. Best is trial 0 with value: 0.0.\n"
     ]
    },
    {
     "name": "stdout",
     "output_type": "stream",
     "text": [
      "Error in trial 19: Dataset '/kaggle/working/yolo_flagella/flagella.yaml' error ❌ Dataset '/kaggle/working/yolo_flagella/flagella.yaml' images not found, missing path '/kaggle/input/yolo-data/yolo_dataset/images/train'\n",
      "Note dataset download directory is '/kaggle/working/datasets'. You can update this in '/root/.config/Ultralytics/settings.json'\n",
      "\n",
      "==================================================\n",
      "Best trial: #0\n",
      "Best mAP50-95: 0.0000\n",
      "Best hyperparameters:\n",
      "  lr0: 0.00029540897720910675\n",
      "  lrf: 0.007947800117728282\n",
      "  mosaic: 0.7987560065606213\n",
      "  mixup: 0.17216840207742765\n",
      "  copy_paste: 0.022768861093074577\n",
      "  hsv_h: 0.007012038053615444\n",
      "  hsv_s: 0.1783301827420825\n",
      "  hsv_v: 0.2091159807174562\n",
      "  degrees: 124\n",
      "  fliplr: 0.26370724070217955\n",
      "  flipud: 0.4420908058986989\n",
      "  box: 0.12262251967986024\n",
      "  cls: 0.5003127233391899\n",
      "  batch: 16\n",
      "  weight_decay: 3.061447323282775e-05\n",
      "Visualization libraries not available. Install plotly for visualization.\n",
      "\n",
      "Training complete with best parameters:\n",
      "{'lr0': 0.00029540897720910675, 'lrf': 0.007947800117728282, 'mosaic': 0.7987560065606213, 'mixup': 0.17216840207742765, 'copy_paste': 0.022768861093074577, 'hsv_h': 0.007012038053615444, 'hsv_s': 0.1783301827420825, 'hsv_v': 0.2091159807174562, 'degrees': 124, 'fliplr': 0.26370724070217955, 'flipud': 0.4420908058986989, 'box': 0.12262251967986024, 'cls': 0.5003127233391899, 'batch': 16, 'weight_decay': 3.061447323282775e-05}\n"
     ]
    }
   ],
   "source": [
    "import os, yaml, json, time\n",
    "import numpy as np\n",
    "import pandas as pd\n",
    "import torch\n",
    "import optuna\n",
    "from ultralytics import YOLO\n",
    "from datetime import datetime\n",
    "\n",
    "# Define constants\n",
    "SEED = 42\n",
    "DATA_ROOT = \"/kaggle/input/yolo-data/yolo_dataset\"\n",
    "WORK_DIR = \"/kaggle/working/yolo_flagella\"\n",
    "N_TRIALS = 20  # Number of hyperparameter trials to run\n",
    "os.makedirs(WORK_DIR, exist_ok=True)\n",
    "\n",
    "# Create data YAML\n",
    "data_yaml = {\n",
    "    \"path\": DATA_ROOT,\n",
    "    \"train\": \"images/train\",\n",
    "    \"val\": \"images/val\" if os.path.exists(f\"{DATA_ROOT}/images/val\") else \"images/train\",\n",
    "    \"nc\": 1,\n",
    "    \"names\": [\"motor\"]\n",
    "}\n",
    "DATA_YAML_PATH = f\"{WORK_DIR}/flagella.yaml\"\n",
    "with open(DATA_YAML_PATH, \"w\") as f:\n",
    "    yaml.dump(data_yaml, f)\n",
    "print(\"Created data yaml:\", DATA_YAML_PATH)\n",
    "\n",
    "# Set seeds for reproducibility\n",
    "np.random.seed(SEED)\n",
    "torch.manual_seed(SEED)\n",
    "\n",
    "# Define the objective function for Optuna\n",
    "def objective(trial):\n",
    "    # Generate unique trial name\n",
    "    trial_name = f\"trial_{trial.number}_{datetime.now().strftime('%Y%m%d_%H%M%S')}\"\n",
    "    \n",
    "    # Sample hyperparameters\n",
    "    hyperparams = {\n",
    "        # Learning rates - log scale for better sampling\n",
    "        'lr0': trial.suggest_float('lr0', 1e-5, 1e-3, log=True),\n",
    "        'lrf': trial.suggest_float('lrf', 0.001, 0.01, log=True),\n",
    "        \n",
    "        # Augmentation parameters\n",
    "        'mosaic': trial.suggest_float('mosaic', 0.5, 0.9),\n",
    "        'mixup': trial.suggest_float('mixup', 0.0, 0.2),\n",
    "        'copy_paste': trial.suggest_float('copy_paste', 0.0, 0.1),\n",
    "        'hsv_h': trial.suggest_float('hsv_h', 0.0, 0.05),\n",
    "        'hsv_s': trial.suggest_float('hsv_s', 0.0, 0.3),\n",
    "        'hsv_v': trial.suggest_float('hsv_v', 0.0, 0.3),\n",
    "        'degrees': trial.suggest_int('degrees', 0, 180),\n",
    "        'fliplr': trial.suggest_float('fliplr', 0.0, 0.5),\n",
    "        'flipud': trial.suggest_float('flipud', 0.0, 0.5),\n",
    "        \n",
    "        # Loss weights\n",
    "        'box': trial.suggest_float('box', 0.02, 0.2),\n",
    "        'cls': trial.suggest_float('cls', 0.2, 0.8),\n",
    "        \n",
    "        # Training parameters\n",
    "        'batch': trial.suggest_categorical('batch', [8, 16, 32]),\n",
    "        'weight_decay': trial.suggest_float('weight_decay', 1e-5, 1e-3, log=True),\n",
    "    }\n",
    "    \n",
    "    # Log the parameters we're trying\n",
    "    print(f\"\\n=== Trial {trial.number} ===\")\n",
    "    for k, v in hyperparams.items():\n",
    "        print(f\"{k}: {v}\")\n",
    "    \n",
    "    # Initialize model\n",
    "    model = YOLO('yolov8s.pt')\n",
    "    \n",
    "    try:\n",
    "        # Train with these hyperparameters\n",
    "        results = model.train(\n",
    "            data=DATA_YAML_PATH,\n",
    "            imgsz=640,\n",
    "            epochs=50,  # Reduced for faster trials\n",
    "            project=WORK_DIR,\n",
    "            name=trial_name,\n",
    "            exist_ok=True,\n",
    "            seed=SEED,\n",
    "            single_cls=True,\n",
    "            patience=15,  # Early stopping to speed up trials\n",
    "            **hyperparams\n",
    "        )\n",
    "        \n",
    "        # Extract primary metric\n",
    "        map_val = results.results_dict.get('metrics/mAP50-95(B)', 0)\n",
    "        \n",
    "        # Store all metrics in trial user attributes\n",
    "        trial.set_user_attr('mAP50', results.results_dict.get('metrics/mAP50(B)', 0))\n",
    "        trial.set_user_attr('precision', results.results_dict.get('metrics/precision(B)', 0))\n",
    "        trial.set_user_attr('recall', results.results_dict.get('metrics/recall(B)', 0))\n",
    "        \n",
    "        return map_val\n",
    "        \n",
    "    except Exception as e:\n",
    "        print(f\"Error in trial {trial.number}: {str(e)}\")\n",
    "        return 0  # Return worst possible score on error\n",
    "    \n",
    "# Create an Optuna study\n",
    "study = optuna.create_study(direction='maximize', \n",
    "                           study_name='flagellar_motor_detection')\n",
    "\n",
    "# Run the optimization\n",
    "study.optimize(objective, n_trials=N_TRIALS)\n",
    "\n",
    "# Get best trial and parameters\n",
    "best_trial = study.best_trial\n",
    "best_params = best_trial.params\n",
    "best_map = best_trial.value\n",
    "\n",
    "print(\"\\n\" + \"=\"*50)\n",
    "print(f\"Best trial: #{best_trial.number}\")\n",
    "print(f\"Best mAP50-95: {best_map:.4f}\")\n",
    "print(\"Best hyperparameters:\")\n",
    "for k, v in best_params.items():\n",
    "    print(f\"  {k}: {v}\")\n",
    "\n",
    "# Save all trials results to CSV\n",
    "trials_df = study.trials_dataframe()\n",
    "trials_df.to_csv(f\"{WORK_DIR}/optuna_trials_results.csv\", index=False)\n",
    "\n",
    "# Save best parameters to JSON\n",
    "with open(f\"{WORK_DIR}/best_params.json\", 'w') as f:\n",
    "    json.dump(best_params, f, indent=4)\n",
    "\n",
    "# Visualize optimization history\n",
    "try:\n",
    "    from optuna.visualization import plot_optimization_history, plot_param_importances\n",
    "    import matplotlib.pyplot as plt\n",
    "    \n",
    "    # Plot optimization history\n",
    "    fig = plot_optimization_history(study)\n",
    "    fig.write_image(f\"{WORK_DIR}/optimization_history.png\")\n",
    "    \n",
    "    # Plot parameter importances\n",
    "    fig = plot_param_importances(study)\n",
    "    fig.write_image(f\"{WORK_DIR}/param_importances.png\")\n",
    "    \n",
    "    print(f\"Plots saved to {WORK_DIR}\")\n",
    "except:\n",
    "    print(\"Visualization libraries not available. Install plotly for visualization.\")\n",
    "\n",
    "print(\"\\nTraining complete with best parameters:\")\n",
    "print(best_params)"
   ]
  }
 ],
 "metadata": {
  "kaggle": {
   "accelerator": "gpu",
   "dataSources": [
    {
     "sourceId": 239299755,
     "sourceType": "kernelVersion"
    }
   ],
   "isGpuEnabled": true,
   "isInternetEnabled": true,
   "language": "python",
   "sourceType": "notebook"
  },
  "kernelspec": {
   "display_name": "Python 3",
   "language": "python",
   "name": "python3"
  },
  "language_info": {
   "codemirror_mode": {
    "name": "ipython",
    "version": 3
   },
   "file_extension": ".py",
   "mimetype": "text/x-python",
   "name": "python",
   "nbconvert_exporter": "python",
   "pygments_lexer": "ipython3",
   "version": "3.11.11"
  },
  "papermill": {
   "default_parameters": {},
   "duration": 92.91583,
   "end_time": "2025-05-16T09:34:22.801386",
   "environment_variables": {},
   "exception": null,
   "input_path": "__notebook__.ipynb",
   "output_path": "__notebook__.ipynb",
   "parameters": {},
   "start_time": "2025-05-16T09:32:49.885556",
   "version": "2.6.0"
  }
 },
 "nbformat": 4,
 "nbformat_minor": 5
}
